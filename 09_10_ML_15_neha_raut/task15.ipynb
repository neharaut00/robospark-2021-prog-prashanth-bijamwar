{
  "nbformat": 4,
  "nbformat_minor": 0,
  "metadata": {
    "colab": {
      "name": "Day_3_task.ipynb",
      "provenance": []
    },
    "kernelspec": {
      "name": "python3",
      "display_name": "Python 3"
    },
    "language_info": {
      "name": "python"
    }
  },
  "cells": [
    {
      "cell_type": "code",
      "metadata": {
        "colab": {
          "base_uri": "https://localhost:8080/"
        },
        "id": "1jwk8j3PFW_0",
        "outputId": "5db63017-08b4-47b9-c0f8-2004247dfeba"
      },
      "source": [
        "from google.colab import drive\n",
        "drive.mount('/content/drive')"
      ],
      "execution_count": 1,
      "outputs": [
        {
          "output_type": "stream",
          "name": "stdout",
          "text": [
            "Mounted at /content/drive\n"
          ]
        }
      ]
    },
    {
      "cell_type": "code",
      "metadata": {
        "id": "ANlM9GkXFqt7"
      },
      "source": [
        "import pandas as pd       \n",
        "import numpy as np        "
      ],
      "execution_count": 2,
      "outputs": []
    },
    {
      "cell_type": "code",
      "metadata": {
        "id": "qZw-uE9aFxR1"
      },
      "source": [
        "path = '/content/drive/MyDrive/data.csv'  # path of the dataset \n",
        "\n",
        "df = pd.read_csv(path)  # reads data and stores as dataframe"
      ],
      "execution_count": 3,
      "outputs": []
    },
    {
      "cell_type": "code",
      "metadata": {
        "colab": {
          "base_uri": "https://localhost:8080/",
          "height": 597
        },
        "id": "MQDRQCFuF1db",
        "outputId": "98ac194a-cd8a-4f39-b3f3-c928d6c5c1aa"
      },
      "source": [
        "df"
      ],
      "execution_count": 4,
      "outputs": [
        {
          "output_type": "execute_result",
          "data": {
            "text/html": [
              "<div>\n",
              "<style scoped>\n",
              "    .dataframe tbody tr th:only-of-type {\n",
              "        vertical-align: middle;\n",
              "    }\n",
              "\n",
              "    .dataframe tbody tr th {\n",
              "        vertical-align: top;\n",
              "    }\n",
              "\n",
              "    .dataframe thead th {\n",
              "        text-align: right;\n",
              "    }\n",
              "</style>\n",
              "<table border=\"1\" class=\"dataframe\">\n",
              "  <thead>\n",
              "    <tr style=\"text-align: right;\">\n",
              "      <th></th>\n",
              "      <th>passenger_id</th>\n",
              "      <th>pclass</th>\n",
              "      <th>name</th>\n",
              "      <th>sex</th>\n",
              "      <th>age</th>\n",
              "      <th>sibsp</th>\n",
              "      <th>parch</th>\n",
              "      <th>ticket</th>\n",
              "      <th>fare</th>\n",
              "      <th>cabin</th>\n",
              "      <th>embarked</th>\n",
              "      <th>boat</th>\n",
              "      <th>body</th>\n",
              "      <th>home.dest</th>\n",
              "      <th>survived</th>\n",
              "    </tr>\n",
              "  </thead>\n",
              "  <tbody>\n",
              "    <tr>\n",
              "      <th>0</th>\n",
              "      <td>1216</td>\n",
              "      <td>3</td>\n",
              "      <td>Smyth, Miss. Julia</td>\n",
              "      <td>female</td>\n",
              "      <td>NaN</td>\n",
              "      <td>0</td>\n",
              "      <td>0</td>\n",
              "      <td>335432</td>\n",
              "      <td>7.7333</td>\n",
              "      <td>NaN</td>\n",
              "      <td>Q</td>\n",
              "      <td>13</td>\n",
              "      <td>NaN</td>\n",
              "      <td>NaN</td>\n",
              "      <td>1</td>\n",
              "    </tr>\n",
              "    <tr>\n",
              "      <th>1</th>\n",
              "      <td>699</td>\n",
              "      <td>3</td>\n",
              "      <td>Cacic, Mr. Luka</td>\n",
              "      <td>male</td>\n",
              "      <td>38.0</td>\n",
              "      <td>0</td>\n",
              "      <td>0</td>\n",
              "      <td>315089</td>\n",
              "      <td>8.6625</td>\n",
              "      <td>NaN</td>\n",
              "      <td>S</td>\n",
              "      <td>NaN</td>\n",
              "      <td>NaN</td>\n",
              "      <td>Croatia</td>\n",
              "      <td>0</td>\n",
              "    </tr>\n",
              "    <tr>\n",
              "      <th>2</th>\n",
              "      <td>1267</td>\n",
              "      <td>3</td>\n",
              "      <td>Van Impe, Mrs. Jean Baptiste (Rosalie Paula Go...</td>\n",
              "      <td>female</td>\n",
              "      <td>30.0</td>\n",
              "      <td>1</td>\n",
              "      <td>1</td>\n",
              "      <td>345773</td>\n",
              "      <td>24.1500</td>\n",
              "      <td>NaN</td>\n",
              "      <td>S</td>\n",
              "      <td>NaN</td>\n",
              "      <td>NaN</td>\n",
              "      <td>NaN</td>\n",
              "      <td>0</td>\n",
              "    </tr>\n",
              "    <tr>\n",
              "      <th>3</th>\n",
              "      <td>449</td>\n",
              "      <td>2</td>\n",
              "      <td>Hocking, Mrs. Elizabeth (Eliza Needs)</td>\n",
              "      <td>female</td>\n",
              "      <td>54.0</td>\n",
              "      <td>1</td>\n",
              "      <td>3</td>\n",
              "      <td>29105</td>\n",
              "      <td>23.0000</td>\n",
              "      <td>NaN</td>\n",
              "      <td>S</td>\n",
              "      <td>4</td>\n",
              "      <td>NaN</td>\n",
              "      <td>Cornwall / Akron, OH</td>\n",
              "      <td>1</td>\n",
              "    </tr>\n",
              "    <tr>\n",
              "      <th>4</th>\n",
              "      <td>576</td>\n",
              "      <td>2</td>\n",
              "      <td>Veal, Mr. James</td>\n",
              "      <td>male</td>\n",
              "      <td>40.0</td>\n",
              "      <td>0</td>\n",
              "      <td>0</td>\n",
              "      <td>28221</td>\n",
              "      <td>13.0000</td>\n",
              "      <td>NaN</td>\n",
              "      <td>S</td>\n",
              "      <td>NaN</td>\n",
              "      <td>NaN</td>\n",
              "      <td>Barre, Co Washington, VT</td>\n",
              "      <td>0</td>\n",
              "    </tr>\n",
              "    <tr>\n",
              "      <th>...</th>\n",
              "      <td>...</td>\n",
              "      <td>...</td>\n",
              "      <td>...</td>\n",
              "      <td>...</td>\n",
              "      <td>...</td>\n",
              "      <td>...</td>\n",
              "      <td>...</td>\n",
              "      <td>...</td>\n",
              "      <td>...</td>\n",
              "      <td>...</td>\n",
              "      <td>...</td>\n",
              "      <td>...</td>\n",
              "      <td>...</td>\n",
              "      <td>...</td>\n",
              "      <td>...</td>\n",
              "    </tr>\n",
              "    <tr>\n",
              "      <th>845</th>\n",
              "      <td>158</td>\n",
              "      <td>1</td>\n",
              "      <td>Hipkins, Mr. William Edward</td>\n",
              "      <td>male</td>\n",
              "      <td>55.0</td>\n",
              "      <td>0</td>\n",
              "      <td>0</td>\n",
              "      <td>680</td>\n",
              "      <td>50.0000</td>\n",
              "      <td>C39</td>\n",
              "      <td>S</td>\n",
              "      <td>NaN</td>\n",
              "      <td>NaN</td>\n",
              "      <td>London / Birmingham</td>\n",
              "      <td>0</td>\n",
              "    </tr>\n",
              "    <tr>\n",
              "      <th>846</th>\n",
              "      <td>174</td>\n",
              "      <td>1</td>\n",
              "      <td>Kent, Mr. Edward Austin</td>\n",
              "      <td>male</td>\n",
              "      <td>58.0</td>\n",
              "      <td>0</td>\n",
              "      <td>0</td>\n",
              "      <td>11771</td>\n",
              "      <td>29.7000</td>\n",
              "      <td>B37</td>\n",
              "      <td>C</td>\n",
              "      <td>NaN</td>\n",
              "      <td>258.0</td>\n",
              "      <td>Buffalo, NY</td>\n",
              "      <td>0</td>\n",
              "    </tr>\n",
              "    <tr>\n",
              "      <th>847</th>\n",
              "      <td>467</td>\n",
              "      <td>2</td>\n",
              "      <td>Kantor, Mrs. Sinai (Miriam Sternin)</td>\n",
              "      <td>female</td>\n",
              "      <td>24.0</td>\n",
              "      <td>1</td>\n",
              "      <td>0</td>\n",
              "      <td>244367</td>\n",
              "      <td>26.0000</td>\n",
              "      <td>NaN</td>\n",
              "      <td>S</td>\n",
              "      <td>12</td>\n",
              "      <td>NaN</td>\n",
              "      <td>Moscow / Bronx, NY</td>\n",
              "      <td>1</td>\n",
              "    </tr>\n",
              "    <tr>\n",
              "      <th>848</th>\n",
              "      <td>1112</td>\n",
              "      <td>3</td>\n",
              "      <td>Peacock, Miss. Treasteall</td>\n",
              "      <td>female</td>\n",
              "      <td>3.0</td>\n",
              "      <td>1</td>\n",
              "      <td>1</td>\n",
              "      <td>SOTON/O.Q. 3101315</td>\n",
              "      <td>13.7750</td>\n",
              "      <td>NaN</td>\n",
              "      <td>S</td>\n",
              "      <td>NaN</td>\n",
              "      <td>NaN</td>\n",
              "      <td>NaN</td>\n",
              "      <td>0</td>\n",
              "    </tr>\n",
              "    <tr>\n",
              "      <th>849</th>\n",
              "      <td>425</td>\n",
              "      <td>2</td>\n",
              "      <td>Greenberg, Mr. Samuel</td>\n",
              "      <td>male</td>\n",
              "      <td>52.0</td>\n",
              "      <td>0</td>\n",
              "      <td>0</td>\n",
              "      <td>250647</td>\n",
              "      <td>13.0000</td>\n",
              "      <td>NaN</td>\n",
              "      <td>S</td>\n",
              "      <td>NaN</td>\n",
              "      <td>19.0</td>\n",
              "      <td>Bronx, NY</td>\n",
              "      <td>0</td>\n",
              "    </tr>\n",
              "  </tbody>\n",
              "</table>\n",
              "<p>850 rows × 15 columns</p>\n",
              "</div>"
            ],
            "text/plain": [
              "     passenger_id  pclass  ...                 home.dest survived\n",
              "0            1216       3  ...                       NaN        1\n",
              "1             699       3  ...                   Croatia        0\n",
              "2            1267       3  ...                       NaN        0\n",
              "3             449       2  ...      Cornwall / Akron, OH        1\n",
              "4             576       2  ...  Barre, Co Washington, VT        0\n",
              "..            ...     ...  ...                       ...      ...\n",
              "845           158       1  ...       London / Birmingham        0\n",
              "846           174       1  ...               Buffalo, NY        0\n",
              "847           467       2  ...        Moscow / Bronx, NY        1\n",
              "848          1112       3  ...                       NaN        0\n",
              "849           425       2  ...                 Bronx, NY        0\n",
              "\n",
              "[850 rows x 15 columns]"
            ]
          },
          "metadata": {},
          "execution_count": 4
        }
      ]
    },
    {
      "cell_type": "code",
      "metadata": {
        "colab": {
          "base_uri": "https://localhost:8080/"
        },
        "id": "ild-Zp_TF1gD",
        "outputId": "01aec9a4-aa99-4873-ad76-10f79e80a34d"
      },
      "source": [
        "df.shape"
      ],
      "execution_count": 5,
      "outputs": [
        {
          "output_type": "execute_result",
          "data": {
            "text/plain": [
              "(850, 15)"
            ]
          },
          "metadata": {},
          "execution_count": 5
        }
      ]
    },
    {
      "cell_type": "code",
      "metadata": {
        "colab": {
          "base_uri": "https://localhost:8080/"
        },
        "id": "HzlZ7BI-F1iX",
        "outputId": "20f0a174-8f0c-4556-a554-3ec26dd40469"
      },
      "source": [
        "df.info()"
      ],
      "execution_count": 6,
      "outputs": [
        {
          "output_type": "stream",
          "name": "stdout",
          "text": [
            "<class 'pandas.core.frame.DataFrame'>\n",
            "RangeIndex: 850 entries, 0 to 849\n",
            "Data columns (total 15 columns):\n",
            " #   Column        Non-Null Count  Dtype  \n",
            "---  ------        --------------  -----  \n",
            " 0   passenger_id  850 non-null    int64  \n",
            " 1   pclass        850 non-null    int64  \n",
            " 2   name          850 non-null    object \n",
            " 3   sex           850 non-null    object \n",
            " 4   age           676 non-null    float64\n",
            " 5   sibsp         850 non-null    int64  \n",
            " 6   parch         850 non-null    int64  \n",
            " 7   ticket        850 non-null    object \n",
            " 8   fare          849 non-null    float64\n",
            " 9   cabin         191 non-null    object \n",
            " 10  embarked      849 non-null    object \n",
            " 11  boat          308 non-null    object \n",
            " 12  body          73 non-null     float64\n",
            " 13  home.dest     464 non-null    object \n",
            " 14  survived      850 non-null    int64  \n",
            "dtypes: float64(3), int64(5), object(7)\n",
            "memory usage: 99.7+ KB\n"
          ]
        }
      ]
    },
    {
      "cell_type": "code",
      "metadata": {
        "colab": {
          "base_uri": "https://localhost:8080/"
        },
        "id": "y9ZWsWncF1k8",
        "outputId": "52d098b9-6366-4506-9105-0cad85ffd0d7"
      },
      "source": [
        "df['pclass'].unique()"
      ],
      "execution_count": 7,
      "outputs": [
        {
          "output_type": "execute_result",
          "data": {
            "text/plain": [
              "array([3, 2, 1])"
            ]
          },
          "metadata": {},
          "execution_count": 7
        }
      ]
    },
    {
      "cell_type": "code",
      "metadata": {
        "colab": {
          "base_uri": "https://localhost:8080/"
        },
        "id": "zcOVOq4cF1mV",
        "outputId": "815f791b-fd18-4835-c7ec-41d189261007"
      },
      "source": [
        "df['sibsp'].unique()"
      ],
      "execution_count": 8,
      "outputs": [
        {
          "output_type": "execute_result",
          "data": {
            "text/plain": [
              "array([0, 1, 2, 8, 5, 4, 3])"
            ]
          },
          "metadata": {},
          "execution_count": 8
        }
      ]
    },
    {
      "cell_type": "code",
      "metadata": {
        "colab": {
          "base_uri": "https://localhost:8080/"
        },
        "id": "4kgH-5L-F1qW",
        "outputId": "b2b28d5e-6db1-488c-c8bb-aa3d6833dafc"
      },
      "source": [
        "df['parch'].unique()"
      ],
      "execution_count": 9,
      "outputs": [
        {
          "output_type": "execute_result",
          "data": {
            "text/plain": [
              "array([0, 1, 3, 2, 9, 4, 6, 5])"
            ]
          },
          "metadata": {},
          "execution_count": 9
        }
      ]
    },
    {
      "cell_type": "code",
      "metadata": {
        "colab": {
          "base_uri": "https://localhost:8080/"
        },
        "id": "ehmAOY_JF1tX",
        "outputId": "02570a5b-fa71-41fb-d93c-b5ed34469d23"
      },
      "source": [
        "df['cabin'].unique()"
      ],
      "execution_count": 10,
      "outputs": [
        {
          "output_type": "execute_result",
          "data": {
            "text/plain": [
              "array([nan, 'C82', 'D15', 'C50', 'E33', 'B57 B59 B63 B66', 'E34', 'C83',\n",
              "       'C125', 'B82 B84', 'B96 B98', 'B51 B53 B55', 'C132', 'C31', 'C68',\n",
              "       'B94', 'F E46', 'C126', 'D34', 'B28', 'C65', 'B52 B54 B56', 'D17',\n",
              "       'C86', 'C7', 'E25', 'E17', 'D56', 'A9', 'B26', 'C91', 'B5', 'D',\n",
              "       'A23', 'C22 C26', 'C124', 'E63', 'B35', 'B18', 'C6', 'B49', 'B19',\n",
              "       'G6', 'D35', 'C23 C25 C27', 'C62 C64', 'B73', 'E12', 'B41', 'A20',\n",
              "       'B69', 'C78', 'A14', 'D26', 'C51', 'B79', 'E52', 'C49', 'C104',\n",
              "       'B61', 'D43', 'D48', 'C123', 'A7', 'D47', 'D49', 'B80', 'A29',\n",
              "       'F38', 'B58 B60', 'A34', 'D33', 'D20', 'F G63', 'T', 'A6',\n",
              "       'C55 C57', 'B38', 'E49', 'F4', 'E121', 'C85', 'C87', 'B86', 'B102',\n",
              "       'C111', 'D22', 'B22', 'B77', 'B50', 'B30', 'E36', 'F33', 'E60',\n",
              "       'B39', 'C118', 'D21', 'F2', 'E39 E41', 'E101', 'A32', 'D38',\n",
              "       'C101', 'C54', 'C106', 'C32', 'D36', 'E50', 'D40', 'C30', 'C52',\n",
              "       'C130', 'C80', 'F G73', 'E10', 'B10', 'B24', 'C2', 'D28', 'E44',\n",
              "       'D30', 'B20', 'C28', 'C97', 'E8', 'D11', 'B101', 'D37', 'F E57',\n",
              "       'E24', 'A24', 'C46', 'E31', 'C93', 'C39', 'B37'], dtype=object)"
            ]
          },
          "metadata": {},
          "execution_count": 10
        }
      ]
    },
    {
      "cell_type": "code",
      "metadata": {
        "colab": {
          "base_uri": "https://localhost:8080/"
        },
        "id": "WKkjZEXPF1vH",
        "outputId": "7e9ec255-67ba-4fb1-e873-82ae4839e98e"
      },
      "source": [
        "df['embarked'].unique()"
      ],
      "execution_count": 11,
      "outputs": [
        {
          "output_type": "execute_result",
          "data": {
            "text/plain": [
              "array(['Q', 'S', 'C', nan], dtype=object)"
            ]
          },
          "metadata": {},
          "execution_count": 11
        }
      ]
    },
    {
      "cell_type": "code",
      "metadata": {
        "colab": {
          "base_uri": "https://localhost:8080/"
        },
        "id": "6GhjN5lfGLoG",
        "outputId": "5d73735f-5d32-4cbc-c2ad-05fbea553cec"
      },
      "source": [
        "df['boat'].unique()"
      ],
      "execution_count": 12,
      "outputs": [
        {
          "output_type": "execute_result",
          "data": {
            "text/plain": [
              "array(['13', nan, '4', '10', 'C', '8', '7', '16', '6', 'A', '15', '9',\n",
              "       '14', '3', '11', '12', '2', '5 7', '5 9', 'B', '5', 'D', '1',\n",
              "       'C D', '13 15', '13 15 B', '15 16'], dtype=object)"
            ]
          },
          "metadata": {},
          "execution_count": 12
        }
      ]
    },
    {
      "cell_type": "code",
      "metadata": {
        "colab": {
          "base_uri": "https://localhost:8080/"
        },
        "id": "IumDt4vNGN2g",
        "outputId": "670752e1-b6cb-4992-e38e-fbb714dd33c5"
      },
      "source": [
        "df['body'].unique()"
      ],
      "execution_count": 13,
      "outputs": [
        {
          "output_type": "execute_result",
          "data": {
            "text/plain": [
              "array([ nan, 173., 190.,  38.,  32., 176.,  47.,  45., 110., 328., 196.,\n",
              "        97.,  69., 312., 147., 135.,   9., 275.,  68.,  14., 305., 181.,\n",
              "       232., 245., 124., 292., 209., 295., 206., 169., 166.,  37., 260.,\n",
              "         4., 148., 103., 189., 122., 293.,  58., 286., 261.,  67., 201.,\n",
              "       121.,  96., 327., 108., 236.,  75., 269.,   7., 234.,  81., 156.,\n",
              "       155., 119.,  70., 306.,  62.,  89., 149., 208., 309., 307.,  53.,\n",
              "       197., 283.,  16., 304., 263., 314., 258.,  19.])"
            ]
          },
          "metadata": {},
          "execution_count": 13
        }
      ]
    },
    {
      "cell_type": "code",
      "metadata": {
        "colab": {
          "base_uri": "https://localhost:8080/"
        },
        "id": "yyfT7DxhGQRO",
        "outputId": "0ca578ce-16e2-4d6d-cf2f-56545c440db3"
      },
      "source": [
        "df['home.dest'].unique()"
      ],
      "execution_count": 15,
      "outputs": [
        {
          "output_type": "execute_result",
          "data": {
            "text/plain": [
              "array([nan, 'Croatia', 'Cornwall / Akron, OH', 'Barre, Co Washington, VT',\n",
              "       'Finland / Washington, DC', 'Elkins Park, PA', 'Philadelphia, PA',\n",
              "       'Mt Airy, Philadelphia, PA', 'East Providence, RI',\n",
              "       'Weston-Super-Mare / Moose Jaw, SK',\n",
              "       'St Leonards-on-Sea, England Ohio', 'Somerset / Bernardsville, NJ',\n",
              "       'London Skanteales, NY', 'Hornsey, England', 'Plymouth, England',\n",
              "       'New York, NY', 'Bristol, England Cleveland, OH',\n",
              "       'Cornwall / Camden, NJ', 'Haverford, PA / Cooperstown, NY',\n",
              "       'Tuxedo Park, NY', 'Bridgerule, Devon', 'West Hoboken, NJ',\n",
              "       'Plymouth, Devon / Detroit, MI', 'Greenwich, CT', 'Ireland',\n",
              "       'Indianapolis, IN', 'Bryn Mawr, PA',\n",
              "       'Germantown, Philadelphia, PA', 'London Brooklyn, NY',\n",
              "       'Co Sligo, Ireland Hartford, CT', 'Devon, England Wichita, KS',\n",
              "       'Huntington, WV', 'Sittingbourne, England / San Diego, CA',\n",
              "       'Harrow-on-the-Hill, Middlesex', 'London',\n",
              "       'Strood, Kent, England Detroit, MI', 'Bulgaria Chicago, IL',\n",
              "       'Stockholm, Sweden', 'Greece', 'Austria', 'Portugal',\n",
              "       'Haverford, PA', 'Goteborg, Sweden Huntley, IL', 'Illinois, USA',\n",
              "       'London /  East Orange, NJ', 'Greenport, NY', 'Devonport, England',\n",
              "       'Ottawa, ON', 'Westcliff-on-Sea, Essex',\n",
              "       'St Ives, Cornwall / Hancock, MI', 'St Austall, Cornwall',\n",
              "       'Madrid, Spain', 'Liverpool', 'England New York, NY',\n",
              "       'Norwich / New York, NY', 'Warwick, England',\n",
              "       'Oslo, Norway Bayonne, NJ', 'Deephaven, MN / Cedar Rapids, IA',\n",
              "       'Finland / Minneapolis, MN', 'Youngstown, OH',\n",
              "       'Wiltshire, England Niagara Falls, NY', 'Cornwall / Houghton, MI',\n",
              "       'Spain', 'Southsea, Hants', 'Liverpool, England / Belfast',\n",
              "       'Lima, Peru', 'Walthamstow, England', 'Paris, France',\n",
              "       'Frankfort, KY', 'Milwaukee, WI', 'Bournmouth, England',\n",
              "       'Winnipeg, MB', 'Co Limerick, Ireland Sherbrooke, PQ',\n",
              "       'St Louis, MO', 'Ireland Chicago, IL', 'Montreal, PQ',\n",
              "       'Hessle, Yorks', 'Montreal, PQ / Chesterville, ON',\n",
              "       'Antwerp, Belgium / Stanton, OH', 'Sweden Winnipeg, MN',\n",
              "       'Cornwall, England Houghton, MI', 'Paris', 'Washington, DC',\n",
              "       'Syria', 'Portland, OR', 'Hamilton, ON', 'Southampton',\n",
              "       'England Brooklyn, NY', \"St Anne's-on-Sea, Lancashire\",\n",
              "       'Aughnacliff, Co Longford, Ireland New York, NY', 'Chicago, IL',\n",
              "       'Rochester, NY', 'Winnipeg, MN', 'Dowagiac, MI',\n",
              "       'Montevideo, Uruguay', 'London, England', 'Brooklyn, NY',\n",
              "       'Ireland New York, NY', 'Vancouver, BC', 'Provo, UT',\n",
              "       'England / Sacramento, CA', 'Zurich, Switzerland',\n",
              "       'Geneva, Switzerland / Radnor, PA', 'Milford, NH',\n",
              "       'Russia New York, NY', 'London / Paris', 'Sydney, Australia',\n",
              "       'Lucca, Italy / California', 'Mamaroneck, NY',\n",
              "       'Bryn Mawr, PA, USA',\n",
              "       'Lower Clapton, Middlesex or Erdington, Birmingham',\n",
              "       'Guernsey / Elizabeth, NJ', 'Krakoryd, Sweden Bloomington, IL',\n",
              "       'Guernsey / Montclair, NJ and/or Toledo, Ohio', 'Harrow, England',\n",
              "       'Bishopstoke, Hants / Fayette Valley, ID', 'Sweden Worcester, MA',\n",
              "       'Stoughton, MA', 'Brunswick, ME', 'Medeltorp, Sweden Chicago, IL',\n",
              "       'Paris / Haiti', 'Minneapolis, MN', 'Halifax, NS',\n",
              "       'Swindon, England', 'Norway Los Angeles, CA',\n",
              "       'Surbiton Hill, Surrey', 'Sarnia, ON', 'Ireland Philadelphia, PA',\n",
              "       'Ruotsinphytaa, Finland New York, NY', 'Bergen, Norway',\n",
              "       'San Francisco, CA', 'Lakewood, NJ',\n",
              "       'Plymouth, Dorset / Houghton, MI',\n",
              "       'Karberg, Sweden Jerome Junction, AZ',\n",
              "       'Paris, France New York, NY', 'Toronto, ON',\n",
              "       'Hong Kong New York, NY', 'Belfast', 'Hartford, CT',\n",
              "       'Bournemouth, England', '?Havana, Cuba', 'Rotterdam, Netherlands',\n",
              "       'Cambridge, MA', 'Lexington, MA', 'Guernsey', 'Scituate, MA',\n",
              "       'St James, Long Island, NY', 'England / Bennington, VT',\n",
              "       'Taalintehdas, Finland Hoboken, NJ',\n",
              "       'Bromsgrove, England / Montreal, PQ', 'Roachdale, IN',\n",
              "       'Co Cork, Ireland Charlestown, MA',\n",
              "       'Rotherfield, Sussex, England Essex Co, MA', 'Russia',\n",
              "       'Liverpool / Montreal, PQ', 'Detroit, MI',\n",
              "       'Co Sligo, Ireland New York, NY', 'Liverpool, England Bedford, OH',\n",
              "       'England / Philadelphia, PA', 'Bristol, England / New Britain, CT',\n",
              "       'Sweden Chicago, IL', 'Myren, Sweden New York, NY',\n",
              "       'West Bromwich, England Pontiac, MI', 'West Haven, CT',\n",
              "       'Co Clare, Ireland Washington, DC', 'India / Rapid City, SD',\n",
              "       'Austria-Hungary', 'Cooperstown, NY', 'Newark, NJ',\n",
              "       'Elizabeth, NJ', 'Skara, Sweden / Rockford, IL',\n",
              "       'England Salt Lake City, Utah', 'Los Angeles, CA',\n",
              "       'Weston-Super-Mare, Somerset', 'London, England Norfolk, VA',\n",
              "       'Perkins County, SD', 'Trenton, NJ', 'Altdorf, Switzerland',\n",
              "       'New Britain, CT', 'Stockholm, Sweden New York',\n",
              "       'Ilford, Essex / Winnipeg, MB',\n",
              "       'Guntur, India / Benton Harbour, MI', 'Salo, Finland Astoria, OR',\n",
              "       'Co Athlone, Ireland New York, NY', 'England Oglesby, IL',\n",
              "       'Sweden Akeley, MN', 'Norrlot, Sweden Chicago, IL',\n",
              "       'Wimbledon Park, London / Hayling Island, Hants',\n",
              "       'London, England / Marietta, Ohio and Milwaukee, WI',\n",
              "       'New Forest, England', 'Syria Youngstown, OH', 'Auburn, NY',\n",
              "       'London / Winnipeg, MB', 'Dagsas, Sweden Fower, MN',\n",
              "       'Foresvik, Norway Portland, ND', 'England / San Francisco, CA',\n",
              "       'Tranvik, Finland New York', 'London / New York, NY',\n",
              "       'Stanton, IA', 'Kontiolahti, Finland / Detroit, MI',\n",
              "       'London  Vancouver, BC', 'Basel, Switzerland', 'Providence, RI',\n",
              "       'Brennes, Norway New York', 'Catford, Kent / Detroit, MI',\n",
              "       'Syria Ottawa, ON', 'St Denys, Southampton, Hants', 'Pennsylvania',\n",
              "       'Folkstone, Kent / New York, NY', 'Glasgow / Bangor, ME',\n",
              "       'Green Bay, WI', 'Clevedon, England',\n",
              "       'West Hampstead, London / Neepawa, MB', 'Paris / Montreal, PQ',\n",
              "       'Portugal / Sau Paulo, Brazil',\n",
              "       'Helsinki, Finland Ashtabula, Ohio',\n",
              "       'Goteborg, Sweden / Rockford, IL',\n",
              "       'Bournemouth, England Newark, NJ',\n",
              "       'Upper Burma, India Pittsburgh, PA', 'Southington / Noank, CT',\n",
              "       'London / Montreal, PQ', 'London / Fort Byron, NY', 'Nice, France',\n",
              "       'Harrisburg, PA', 'Seattle, WA', 'Guernsey / Wilmington, DE',\n",
              "       'London / Chicago, IL', 'Cologne, Germany',\n",
              "       'Aberdeen / Portland, OR',\n",
              "       'Buenos Aires, Argentina / New Jersey, NJ', 'Manchester, England',\n",
              "       'Oslo, Norway Cameron, WI', 'New York, NY / Washington, DC',\n",
              "       'Bangkok, Thailand / Roseville, IL', 'Syria Kent, ON',\n",
              "       'Broomfield, Chelmsford, England', 'London / Staten Island, NY',\n",
              "       'Hartford, Huntingdonshire', 'Tampico, MT',\n",
              "       'Stockholm, Sweden / Washington, DC',\n",
              "       'Lake Arthur, Chavez County, NM', 'Greensburg, PA', 'Omaha, NE',\n",
              "       'England', 'Isleworth, England', 'England / Hartford, CT',\n",
              "       'Duluth, MN', 'Belmont, MA', 'Calgary, AB', 'Sault St Marie, ON',\n",
              "       'New York, NY / Ithaca, NY', 'Hudson, NY',\n",
              "       'New York, NY / Briarcliff Manor NY', 'Bayside, Queens, NY',\n",
              "       'Union Hill, NJ', 'Austria-Hungary / Germantown, Philadelphia, PA',\n",
              "       'Cornwall', 'Moscow / Bronx, NY',\n",
              "       'St Ives, Cornwall / Houghton, MI', 'Lyndhurst, England',\n",
              "       'Kingwilliamstown, Co Cork, Ireland New York, NY', 'Brookline, MA',\n",
              "       'Isle of Wight, England', 'Little Onn Hall, Staffs',\n",
              "       'St Ives, Cornwall / Calumet, MI',\n",
              "       'Bristol, Avon / Jacksonville, FL', 'Amenia, ND',\n",
              "       'Fond du Lac, WI', 'Co Longford, Ireland New York, NY',\n",
              "       'New York, NY /  Stamford CT', 'London / Birmingham',\n",
              "       'Buffalo, NY', 'Bronx, NY'], dtype=object)"
            ]
          },
          "metadata": {},
          "execution_count": 15
        }
      ]
    },
    {
      "cell_type": "code",
      "metadata": {
        "colab": {
          "base_uri": "https://localhost:8080/",
          "height": 423
        },
        "id": "M5sCi1vKGSKD",
        "outputId": "3a914a1d-d8ed-4a71-d14a-cc5722e698cb"
      },
      "source": [
        "df.drop(labels = {'passenger_id', 'name', 'ticket', 'fare', 'cabin' , 'boat', 'body', 'home.dest'} , axis = 1 , inplace = True)\n",
        "df"
      ],
      "execution_count": 16,
      "outputs": [
        {
          "output_type": "execute_result",
          "data": {
            "text/html": [
              "<div>\n",
              "<style scoped>\n",
              "    .dataframe tbody tr th:only-of-type {\n",
              "        vertical-align: middle;\n",
              "    }\n",
              "\n",
              "    .dataframe tbody tr th {\n",
              "        vertical-align: top;\n",
              "    }\n",
              "\n",
              "    .dataframe thead th {\n",
              "        text-align: right;\n",
              "    }\n",
              "</style>\n",
              "<table border=\"1\" class=\"dataframe\">\n",
              "  <thead>\n",
              "    <tr style=\"text-align: right;\">\n",
              "      <th></th>\n",
              "      <th>pclass</th>\n",
              "      <th>sex</th>\n",
              "      <th>age</th>\n",
              "      <th>sibsp</th>\n",
              "      <th>parch</th>\n",
              "      <th>embarked</th>\n",
              "      <th>survived</th>\n",
              "    </tr>\n",
              "  </thead>\n",
              "  <tbody>\n",
              "    <tr>\n",
              "      <th>0</th>\n",
              "      <td>3</td>\n",
              "      <td>female</td>\n",
              "      <td>NaN</td>\n",
              "      <td>0</td>\n",
              "      <td>0</td>\n",
              "      <td>Q</td>\n",
              "      <td>1</td>\n",
              "    </tr>\n",
              "    <tr>\n",
              "      <th>1</th>\n",
              "      <td>3</td>\n",
              "      <td>male</td>\n",
              "      <td>38.0</td>\n",
              "      <td>0</td>\n",
              "      <td>0</td>\n",
              "      <td>S</td>\n",
              "      <td>0</td>\n",
              "    </tr>\n",
              "    <tr>\n",
              "      <th>2</th>\n",
              "      <td>3</td>\n",
              "      <td>female</td>\n",
              "      <td>30.0</td>\n",
              "      <td>1</td>\n",
              "      <td>1</td>\n",
              "      <td>S</td>\n",
              "      <td>0</td>\n",
              "    </tr>\n",
              "    <tr>\n",
              "      <th>3</th>\n",
              "      <td>2</td>\n",
              "      <td>female</td>\n",
              "      <td>54.0</td>\n",
              "      <td>1</td>\n",
              "      <td>3</td>\n",
              "      <td>S</td>\n",
              "      <td>1</td>\n",
              "    </tr>\n",
              "    <tr>\n",
              "      <th>4</th>\n",
              "      <td>2</td>\n",
              "      <td>male</td>\n",
              "      <td>40.0</td>\n",
              "      <td>0</td>\n",
              "      <td>0</td>\n",
              "      <td>S</td>\n",
              "      <td>0</td>\n",
              "    </tr>\n",
              "    <tr>\n",
              "      <th>...</th>\n",
              "      <td>...</td>\n",
              "      <td>...</td>\n",
              "      <td>...</td>\n",
              "      <td>...</td>\n",
              "      <td>...</td>\n",
              "      <td>...</td>\n",
              "      <td>...</td>\n",
              "    </tr>\n",
              "    <tr>\n",
              "      <th>845</th>\n",
              "      <td>1</td>\n",
              "      <td>male</td>\n",
              "      <td>55.0</td>\n",
              "      <td>0</td>\n",
              "      <td>0</td>\n",
              "      <td>S</td>\n",
              "      <td>0</td>\n",
              "    </tr>\n",
              "    <tr>\n",
              "      <th>846</th>\n",
              "      <td>1</td>\n",
              "      <td>male</td>\n",
              "      <td>58.0</td>\n",
              "      <td>0</td>\n",
              "      <td>0</td>\n",
              "      <td>C</td>\n",
              "      <td>0</td>\n",
              "    </tr>\n",
              "    <tr>\n",
              "      <th>847</th>\n",
              "      <td>2</td>\n",
              "      <td>female</td>\n",
              "      <td>24.0</td>\n",
              "      <td>1</td>\n",
              "      <td>0</td>\n",
              "      <td>S</td>\n",
              "      <td>1</td>\n",
              "    </tr>\n",
              "    <tr>\n",
              "      <th>848</th>\n",
              "      <td>3</td>\n",
              "      <td>female</td>\n",
              "      <td>3.0</td>\n",
              "      <td>1</td>\n",
              "      <td>1</td>\n",
              "      <td>S</td>\n",
              "      <td>0</td>\n",
              "    </tr>\n",
              "    <tr>\n",
              "      <th>849</th>\n",
              "      <td>2</td>\n",
              "      <td>male</td>\n",
              "      <td>52.0</td>\n",
              "      <td>0</td>\n",
              "      <td>0</td>\n",
              "      <td>S</td>\n",
              "      <td>0</td>\n",
              "    </tr>\n",
              "  </tbody>\n",
              "</table>\n",
              "<p>850 rows × 7 columns</p>\n",
              "</div>"
            ],
            "text/plain": [
              "     pclass     sex   age  sibsp  parch embarked  survived\n",
              "0         3  female   NaN      0      0        Q         1\n",
              "1         3    male  38.0      0      0        S         0\n",
              "2         3  female  30.0      1      1        S         0\n",
              "3         2  female  54.0      1      3        S         1\n",
              "4         2    male  40.0      0      0        S         0\n",
              "..      ...     ...   ...    ...    ...      ...       ...\n",
              "845       1    male  55.0      0      0        S         0\n",
              "846       1    male  58.0      0      0        C         0\n",
              "847       2  female  24.0      1      0        S         1\n",
              "848       3  female   3.0      1      1        S         0\n",
              "849       2    male  52.0      0      0        S         0\n",
              "\n",
              "[850 rows x 7 columns]"
            ]
          },
          "metadata": {},
          "execution_count": 16
        }
      ]
    },
    {
      "cell_type": "code",
      "metadata": {
        "colab": {
          "base_uri": "https://localhost:8080/"
        },
        "id": "BJdmd3BSGZzX",
        "outputId": "9256b3b3-0fd0-469f-cc77-543c2f1a539c"
      },
      "source": [
        "df.isnull().sum() "
      ],
      "execution_count": 17,
      "outputs": [
        {
          "output_type": "execute_result",
          "data": {
            "text/plain": [
              "pclass        0\n",
              "sex           0\n",
              "age         174\n",
              "sibsp         0\n",
              "parch         0\n",
              "embarked      1\n",
              "survived      0\n",
              "dtype: int64"
            ]
          },
          "metadata": {},
          "execution_count": 17
        }
      ]
    },
    {
      "cell_type": "code",
      "metadata": {
        "id": "drXA622lGZ9c"
      },
      "source": [
        "df['age'].fillna(df['age'].median(), inplace=True)\n",
        "df['embarked'].fillna('S', inplace=True)"
      ],
      "execution_count": 18,
      "outputs": []
    },
    {
      "cell_type": "code",
      "metadata": {
        "colab": {
          "base_uri": "https://localhost:8080/"
        },
        "id": "Ui6WcYv4GaBC",
        "outputId": "f727f4c8-76bf-4488-c90a-421cbd9a12c2"
      },
      "source": [
        "df.isnull().sum()"
      ],
      "execution_count": 19,
      "outputs": [
        {
          "output_type": "execute_result",
          "data": {
            "text/plain": [
              "pclass      0\n",
              "sex         0\n",
              "age         0\n",
              "sibsp       0\n",
              "parch       0\n",
              "embarked    0\n",
              "survived    0\n",
              "dtype: int64"
            ]
          },
          "metadata": {},
          "execution_count": 19
        }
      ]
    },
    {
      "cell_type": "code",
      "metadata": {
        "colab": {
          "base_uri": "https://localhost:8080/",
          "height": 423
        },
        "id": "8nVgYWfOGaG7",
        "outputId": "6f61a53a-8d21-448d-b680-f1f2536d6935"
      },
      "source": [
        "df"
      ],
      "execution_count": 20,
      "outputs": [
        {
          "output_type": "execute_result",
          "data": {
            "text/html": [
              "<div>\n",
              "<style scoped>\n",
              "    .dataframe tbody tr th:only-of-type {\n",
              "        vertical-align: middle;\n",
              "    }\n",
              "\n",
              "    .dataframe tbody tr th {\n",
              "        vertical-align: top;\n",
              "    }\n",
              "\n",
              "    .dataframe thead th {\n",
              "        text-align: right;\n",
              "    }\n",
              "</style>\n",
              "<table border=\"1\" class=\"dataframe\">\n",
              "  <thead>\n",
              "    <tr style=\"text-align: right;\">\n",
              "      <th></th>\n",
              "      <th>pclass</th>\n",
              "      <th>sex</th>\n",
              "      <th>age</th>\n",
              "      <th>sibsp</th>\n",
              "      <th>parch</th>\n",
              "      <th>embarked</th>\n",
              "      <th>survived</th>\n",
              "    </tr>\n",
              "  </thead>\n",
              "  <tbody>\n",
              "    <tr>\n",
              "      <th>0</th>\n",
              "      <td>3</td>\n",
              "      <td>female</td>\n",
              "      <td>28.0</td>\n",
              "      <td>0</td>\n",
              "      <td>0</td>\n",
              "      <td>Q</td>\n",
              "      <td>1</td>\n",
              "    </tr>\n",
              "    <tr>\n",
              "      <th>1</th>\n",
              "      <td>3</td>\n",
              "      <td>male</td>\n",
              "      <td>38.0</td>\n",
              "      <td>0</td>\n",
              "      <td>0</td>\n",
              "      <td>S</td>\n",
              "      <td>0</td>\n",
              "    </tr>\n",
              "    <tr>\n",
              "      <th>2</th>\n",
              "      <td>3</td>\n",
              "      <td>female</td>\n",
              "      <td>30.0</td>\n",
              "      <td>1</td>\n",
              "      <td>1</td>\n",
              "      <td>S</td>\n",
              "      <td>0</td>\n",
              "    </tr>\n",
              "    <tr>\n",
              "      <th>3</th>\n",
              "      <td>2</td>\n",
              "      <td>female</td>\n",
              "      <td>54.0</td>\n",
              "      <td>1</td>\n",
              "      <td>3</td>\n",
              "      <td>S</td>\n",
              "      <td>1</td>\n",
              "    </tr>\n",
              "    <tr>\n",
              "      <th>4</th>\n",
              "      <td>2</td>\n",
              "      <td>male</td>\n",
              "      <td>40.0</td>\n",
              "      <td>0</td>\n",
              "      <td>0</td>\n",
              "      <td>S</td>\n",
              "      <td>0</td>\n",
              "    </tr>\n",
              "    <tr>\n",
              "      <th>...</th>\n",
              "      <td>...</td>\n",
              "      <td>...</td>\n",
              "      <td>...</td>\n",
              "      <td>...</td>\n",
              "      <td>...</td>\n",
              "      <td>...</td>\n",
              "      <td>...</td>\n",
              "    </tr>\n",
              "    <tr>\n",
              "      <th>845</th>\n",
              "      <td>1</td>\n",
              "      <td>male</td>\n",
              "      <td>55.0</td>\n",
              "      <td>0</td>\n",
              "      <td>0</td>\n",
              "      <td>S</td>\n",
              "      <td>0</td>\n",
              "    </tr>\n",
              "    <tr>\n",
              "      <th>846</th>\n",
              "      <td>1</td>\n",
              "      <td>male</td>\n",
              "      <td>58.0</td>\n",
              "      <td>0</td>\n",
              "      <td>0</td>\n",
              "      <td>C</td>\n",
              "      <td>0</td>\n",
              "    </tr>\n",
              "    <tr>\n",
              "      <th>847</th>\n",
              "      <td>2</td>\n",
              "      <td>female</td>\n",
              "      <td>24.0</td>\n",
              "      <td>1</td>\n",
              "      <td>0</td>\n",
              "      <td>S</td>\n",
              "      <td>1</td>\n",
              "    </tr>\n",
              "    <tr>\n",
              "      <th>848</th>\n",
              "      <td>3</td>\n",
              "      <td>female</td>\n",
              "      <td>3.0</td>\n",
              "      <td>1</td>\n",
              "      <td>1</td>\n",
              "      <td>S</td>\n",
              "      <td>0</td>\n",
              "    </tr>\n",
              "    <tr>\n",
              "      <th>849</th>\n",
              "      <td>2</td>\n",
              "      <td>male</td>\n",
              "      <td>52.0</td>\n",
              "      <td>0</td>\n",
              "      <td>0</td>\n",
              "      <td>S</td>\n",
              "      <td>0</td>\n",
              "    </tr>\n",
              "  </tbody>\n",
              "</table>\n",
              "<p>850 rows × 7 columns</p>\n",
              "</div>"
            ],
            "text/plain": [
              "     pclass     sex   age  sibsp  parch embarked  survived\n",
              "0         3  female  28.0      0      0        Q         1\n",
              "1         3    male  38.0      0      0        S         0\n",
              "2         3  female  30.0      1      1        S         0\n",
              "3         2  female  54.0      1      3        S         1\n",
              "4         2    male  40.0      0      0        S         0\n",
              "..      ...     ...   ...    ...    ...      ...       ...\n",
              "845       1    male  55.0      0      0        S         0\n",
              "846       1    male  58.0      0      0        C         0\n",
              "847       2  female  24.0      1      0        S         1\n",
              "848       3  female   3.0      1      1        S         0\n",
              "849       2    male  52.0      0      0        S         0\n",
              "\n",
              "[850 rows x 7 columns]"
            ]
          },
          "metadata": {},
          "execution_count": 20
        }
      ]
    },
    {
      "cell_type": "code",
      "metadata": {
        "id": "haK69HSYGaJe"
      },
      "source": [
        "df['sex'] = np.where(df['sex'] == 'male' , 1 , 0 )\n",
        "from sklearn.preprocessing import LabelEncoder\n",
        "le = LabelEncoder()\n",
        "df[\"embarked\"] = le.fit_transform(df[\"embarked\"])"
      ],
      "execution_count": 21,
      "outputs": []
    },
    {
      "cell_type": "code",
      "metadata": {
        "colab": {
          "base_uri": "https://localhost:8080/",
          "height": 423
        },
        "id": "1KmRo2hPGaMq",
        "outputId": "579280c4-73e7-4248-a346-752a9ab9382f"
      },
      "source": [
        "df"
      ],
      "execution_count": 22,
      "outputs": [
        {
          "output_type": "execute_result",
          "data": {
            "text/html": [
              "<div>\n",
              "<style scoped>\n",
              "    .dataframe tbody tr th:only-of-type {\n",
              "        vertical-align: middle;\n",
              "    }\n",
              "\n",
              "    .dataframe tbody tr th {\n",
              "        vertical-align: top;\n",
              "    }\n",
              "\n",
              "    .dataframe thead th {\n",
              "        text-align: right;\n",
              "    }\n",
              "</style>\n",
              "<table border=\"1\" class=\"dataframe\">\n",
              "  <thead>\n",
              "    <tr style=\"text-align: right;\">\n",
              "      <th></th>\n",
              "      <th>pclass</th>\n",
              "      <th>sex</th>\n",
              "      <th>age</th>\n",
              "      <th>sibsp</th>\n",
              "      <th>parch</th>\n",
              "      <th>embarked</th>\n",
              "      <th>survived</th>\n",
              "    </tr>\n",
              "  </thead>\n",
              "  <tbody>\n",
              "    <tr>\n",
              "      <th>0</th>\n",
              "      <td>3</td>\n",
              "      <td>0</td>\n",
              "      <td>28.0</td>\n",
              "      <td>0</td>\n",
              "      <td>0</td>\n",
              "      <td>1</td>\n",
              "      <td>1</td>\n",
              "    </tr>\n",
              "    <tr>\n",
              "      <th>1</th>\n",
              "      <td>3</td>\n",
              "      <td>1</td>\n",
              "      <td>38.0</td>\n",
              "      <td>0</td>\n",
              "      <td>0</td>\n",
              "      <td>2</td>\n",
              "      <td>0</td>\n",
              "    </tr>\n",
              "    <tr>\n",
              "      <th>2</th>\n",
              "      <td>3</td>\n",
              "      <td>0</td>\n",
              "      <td>30.0</td>\n",
              "      <td>1</td>\n",
              "      <td>1</td>\n",
              "      <td>2</td>\n",
              "      <td>0</td>\n",
              "    </tr>\n",
              "    <tr>\n",
              "      <th>3</th>\n",
              "      <td>2</td>\n",
              "      <td>0</td>\n",
              "      <td>54.0</td>\n",
              "      <td>1</td>\n",
              "      <td>3</td>\n",
              "      <td>2</td>\n",
              "      <td>1</td>\n",
              "    </tr>\n",
              "    <tr>\n",
              "      <th>4</th>\n",
              "      <td>2</td>\n",
              "      <td>1</td>\n",
              "      <td>40.0</td>\n",
              "      <td>0</td>\n",
              "      <td>0</td>\n",
              "      <td>2</td>\n",
              "      <td>0</td>\n",
              "    </tr>\n",
              "    <tr>\n",
              "      <th>...</th>\n",
              "      <td>...</td>\n",
              "      <td>...</td>\n",
              "      <td>...</td>\n",
              "      <td>...</td>\n",
              "      <td>...</td>\n",
              "      <td>...</td>\n",
              "      <td>...</td>\n",
              "    </tr>\n",
              "    <tr>\n",
              "      <th>845</th>\n",
              "      <td>1</td>\n",
              "      <td>1</td>\n",
              "      <td>55.0</td>\n",
              "      <td>0</td>\n",
              "      <td>0</td>\n",
              "      <td>2</td>\n",
              "      <td>0</td>\n",
              "    </tr>\n",
              "    <tr>\n",
              "      <th>846</th>\n",
              "      <td>1</td>\n",
              "      <td>1</td>\n",
              "      <td>58.0</td>\n",
              "      <td>0</td>\n",
              "      <td>0</td>\n",
              "      <td>0</td>\n",
              "      <td>0</td>\n",
              "    </tr>\n",
              "    <tr>\n",
              "      <th>847</th>\n",
              "      <td>2</td>\n",
              "      <td>0</td>\n",
              "      <td>24.0</td>\n",
              "      <td>1</td>\n",
              "      <td>0</td>\n",
              "      <td>2</td>\n",
              "      <td>1</td>\n",
              "    </tr>\n",
              "    <tr>\n",
              "      <th>848</th>\n",
              "      <td>3</td>\n",
              "      <td>0</td>\n",
              "      <td>3.0</td>\n",
              "      <td>1</td>\n",
              "      <td>1</td>\n",
              "      <td>2</td>\n",
              "      <td>0</td>\n",
              "    </tr>\n",
              "    <tr>\n",
              "      <th>849</th>\n",
              "      <td>2</td>\n",
              "      <td>1</td>\n",
              "      <td>52.0</td>\n",
              "      <td>0</td>\n",
              "      <td>0</td>\n",
              "      <td>2</td>\n",
              "      <td>0</td>\n",
              "    </tr>\n",
              "  </tbody>\n",
              "</table>\n",
              "<p>850 rows × 7 columns</p>\n",
              "</div>"
            ],
            "text/plain": [
              "     pclass  sex   age  sibsp  parch  embarked  survived\n",
              "0         3    0  28.0      0      0         1         1\n",
              "1         3    1  38.0      0      0         2         0\n",
              "2         3    0  30.0      1      1         2         0\n",
              "3         2    0  54.0      1      3         2         1\n",
              "4         2    1  40.0      0      0         2         0\n",
              "..      ...  ...   ...    ...    ...       ...       ...\n",
              "845       1    1  55.0      0      0         2         0\n",
              "846       1    1  58.0      0      0         0         0\n",
              "847       2    0  24.0      1      0         2         1\n",
              "848       3    0   3.0      1      1         2         0\n",
              "849       2    1  52.0      0      0         2         0\n",
              "\n",
              "[850 rows x 7 columns]"
            ]
          },
          "metadata": {},
          "execution_count": 22
        }
      ]
    },
    {
      "cell_type": "code",
      "metadata": {
        "id": "z_VtykeBGaQC"
      },
      "source": [
        "df['age'] = df['age']/df['age'].max()"
      ],
      "execution_count": 23,
      "outputs": []
    },
    {
      "cell_type": "code",
      "metadata": {
        "id": "V25CzsjQGsC9"
      },
      "source": [
        "X = df.drop('survived' , axis = 1) \n",
        "Y = df['survived']"
      ],
      "execution_count": 24,
      "outputs": []
    },
    {
      "cell_type": "code",
      "metadata": {
        "id": "txs1HEZ3GvSb"
      },
      "source": [
        "from sklearn import model_selection\n",
        "X_train , X_test , Y_train, Y_test = model_selection.train_test_split(X , Y ,test_size = 0.2, shuffle = True , stratify=Y  )"
      ],
      "execution_count": 25,
      "outputs": []
    },
    {
      "cell_type": "code",
      "metadata": {
        "id": "knP0xLiPGyQv"
      },
      "source": [
        "from sklearn.preprocessing import StandardScaler\n",
        "sc = StandardScaler()\n",
        "X_train = sc.fit_transform(X_train)\n",
        "X_test = sc.transform(X_test)"
      ],
      "execution_count": 26,
      "outputs": []
    },
    {
      "cell_type": "code",
      "metadata": {
        "colab": {
          "base_uri": "https://localhost:8080/"
        },
        "id": "i39yPRO0G2ch",
        "outputId": "29dd15f4-2742-4e21-9d87-c31d0f110de1"
      },
      "source": [
        "from sklearn.tree import DecisionTreeClassifier\n",
        "clfr = DecisionTreeClassifier(criterion = 'entropy', random_state = 0)\n",
        "clfr.fit(X_train, Y_train)"
      ],
      "execution_count": 27,
      "outputs": [
        {
          "output_type": "execute_result",
          "data": {
            "text/plain": [
              "DecisionTreeClassifier(ccp_alpha=0.0, class_weight=None, criterion='entropy',\n",
              "                       max_depth=None, max_features=None, max_leaf_nodes=None,\n",
              "                       min_impurity_decrease=0.0, min_impurity_split=None,\n",
              "                       min_samples_leaf=1, min_samples_split=2,\n",
              "                       min_weight_fraction_leaf=0.0, presort='deprecated',\n",
              "                       random_state=0, splitter='best')"
            ]
          },
          "metadata": {},
          "execution_count": 27
        }
      ]
    },
    {
      "cell_type": "code",
      "metadata": {
        "id": "YaueMVCCG5nm"
      },
      "source": [
        "Y_pred = clfr.predict(X_test)"
      ],
      "execution_count": 28,
      "outputs": []
    },
    {
      "cell_type": "code",
      "metadata": {
        "colab": {
          "base_uri": "https://localhost:8080/"
        },
        "id": "VWqBVsacG9v4",
        "outputId": "d352cb3f-5f33-4156-ad8b-10cd42d60dd0"
      },
      "source": [
        "from sklearn.metrics import confusion_matrix, accuracy_score\n",
        "cm = confusion_matrix(Y_test, Y_pred)\n",
        "print(cm)\n",
        "accuracy_score(Y_test, Y_pred)"
      ],
      "execution_count": 29,
      "outputs": [
        {
          "output_type": "stream",
          "name": "stdout",
          "text": [
            "[[95 12]\n",
            " [16 47]]\n"
          ]
        },
        {
          "output_type": "execute_result",
          "data": {
            "text/plain": [
              "0.8352941176470589"
            ]
          },
          "metadata": {},
          "execution_count": 29
        }
      ]
    }
  ]
}