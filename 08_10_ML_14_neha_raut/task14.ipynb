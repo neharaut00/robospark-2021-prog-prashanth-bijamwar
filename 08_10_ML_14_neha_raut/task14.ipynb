{
  "nbformat": 4,
  "nbformat_minor": 0,
  "metadata": {
    "colab": {
      "name": "Day_2_task.ipynb",
      "provenance": [],
      "collapsed_sections": [],
      "toc_visible": true
    },
    "kernelspec": {
      "name": "python3",
      "display_name": "Python 3"
    },
    "language_info": {
      "name": "python"
    }
  },
  "cells": [
    {
      "cell_type": "markdown",
      "metadata": {
        "id": "xCVygxUXqxwc"
      },
      "source": [
        "# **DRIVE ACCESS AUTHENTICATION**\n",
        "\n"
      ]
    },
    {
      "cell_type": "code",
      "metadata": {
        "colab": {
          "base_uri": "https://localhost:8080/"
        },
        "id": "PqapEvfroYTl",
        "outputId": "227a7842-eba6-4ec2-e69d-eb12a8535d1c"
      },
      "source": [
        "\n",
        "from google.colab import drive\n",
        "drive.mount('/content/drive')\n"
      ],
      "execution_count": 1,
      "outputs": [
        {
          "output_type": "stream",
          "name": "stdout",
          "text": [
            "Mounted at /content/drive\n"
          ]
        }
      ]
    },
    {
      "cell_type": "markdown",
      "metadata": {
        "id": "43y0Yh1cqkR1"
      },
      "source": [
        "# **IMPORTING PACKAGES**"
      ]
    },
    {
      "cell_type": "code",
      "metadata": {
        "id": "fVyK8FegpDe4"
      },
      "source": [
        "import pandas as pd       # dataframe operations \n",
        "import numpy as np        # numeric operations "
      ],
      "execution_count": 2,
      "outputs": []
    },
    {
      "cell_type": "markdown",
      "metadata": {
        "id": "zVJxAu2Fq6Zj"
      },
      "source": [
        "# **READING THE DATASET**"
      ]
    },
    {
      "cell_type": "code",
      "metadata": {
        "id": "KT30b1kLopjJ"
      },
      "source": [
        "path = '/content/drive/MyDrive/dementia_data.csv'  # path of the dataset \n",
        "\n",
        "df = pd.read_csv(path)  # reads data and stores as dataframe \n",
        "\n",
        "\n"
      ],
      "execution_count": 3,
      "outputs": []
    },
    {
      "cell_type": "markdown",
      "metadata": {
        "id": "PmUf0dzprGYf"
      },
      "source": [
        "# **DATA PREPROCESSING**"
      ]
    },
    {
      "cell_type": "markdown",
      "metadata": {
        "id": "rOAypb3Yt3Yf"
      },
      "source": [
        "**SOME PANDAS COMMANDS**"
      ]
    },
    {
      "cell_type": "code",
      "metadata": {
        "id": "GfaRVp1wixLz",
        "colab": {
          "base_uri": "https://localhost:8080/",
          "height": 423
        },
        "outputId": "c0d47dce-0262-4934-eb65-de78ddc0d931"
      },
      "source": [
        "df"
      ],
      "execution_count": 4,
      "outputs": [
        {
          "output_type": "execute_result",
          "data": {
            "text/html": [
              "<div>\n",
              "<style scoped>\n",
              "    .dataframe tbody tr th:only-of-type {\n",
              "        vertical-align: middle;\n",
              "    }\n",
              "\n",
              "    .dataframe tbody tr th {\n",
              "        vertical-align: top;\n",
              "    }\n",
              "\n",
              "    .dataframe thead th {\n",
              "        text-align: right;\n",
              "    }\n",
              "</style>\n",
              "<table border=\"1\" class=\"dataframe\">\n",
              "  <thead>\n",
              "    <tr style=\"text-align: right;\">\n",
              "      <th></th>\n",
              "      <th>Subject ID</th>\n",
              "      <th>MRI ID</th>\n",
              "      <th>Group</th>\n",
              "      <th>Visit</th>\n",
              "      <th>MR Delay</th>\n",
              "      <th>M/F</th>\n",
              "      <th>Age</th>\n",
              "      <th>EDUC</th>\n",
              "      <th>SES</th>\n",
              "      <th>MMSE</th>\n",
              "      <th>eTIV</th>\n",
              "      <th>nWBV</th>\n",
              "      <th>ASF</th>\n",
              "    </tr>\n",
              "  </thead>\n",
              "  <tbody>\n",
              "    <tr>\n",
              "      <th>0</th>\n",
              "      <td>OAS2_0001</td>\n",
              "      <td>OAS2_0001_MR1</td>\n",
              "      <td>Nondemented</td>\n",
              "      <td>1</td>\n",
              "      <td>0</td>\n",
              "      <td>M</td>\n",
              "      <td>87</td>\n",
              "      <td>14</td>\n",
              "      <td>2.0</td>\n",
              "      <td>27.0</td>\n",
              "      <td>1987</td>\n",
              "      <td>0.696</td>\n",
              "      <td>0.883</td>\n",
              "    </tr>\n",
              "    <tr>\n",
              "      <th>1</th>\n",
              "      <td>OAS2_0001</td>\n",
              "      <td>OAS2_0001_MR2</td>\n",
              "      <td>Nondemented</td>\n",
              "      <td>2</td>\n",
              "      <td>457</td>\n",
              "      <td>M</td>\n",
              "      <td>88</td>\n",
              "      <td>14</td>\n",
              "      <td>2.0</td>\n",
              "      <td>30.0</td>\n",
              "      <td>2004</td>\n",
              "      <td>0.681</td>\n",
              "      <td>0.876</td>\n",
              "    </tr>\n",
              "    <tr>\n",
              "      <th>2</th>\n",
              "      <td>OAS2_0002</td>\n",
              "      <td>OAS2_0002_MR1</td>\n",
              "      <td>Demented</td>\n",
              "      <td>1</td>\n",
              "      <td>0</td>\n",
              "      <td>M</td>\n",
              "      <td>75</td>\n",
              "      <td>12</td>\n",
              "      <td>NaN</td>\n",
              "      <td>23.0</td>\n",
              "      <td>1678</td>\n",
              "      <td>0.736</td>\n",
              "      <td>1.046</td>\n",
              "    </tr>\n",
              "    <tr>\n",
              "      <th>3</th>\n",
              "      <td>OAS2_0002</td>\n",
              "      <td>OAS2_0002_MR2</td>\n",
              "      <td>Demented</td>\n",
              "      <td>2</td>\n",
              "      <td>560</td>\n",
              "      <td>M</td>\n",
              "      <td>76</td>\n",
              "      <td>12</td>\n",
              "      <td>NaN</td>\n",
              "      <td>28.0</td>\n",
              "      <td>1738</td>\n",
              "      <td>0.713</td>\n",
              "      <td>1.010</td>\n",
              "    </tr>\n",
              "    <tr>\n",
              "      <th>4</th>\n",
              "      <td>OAS2_0002</td>\n",
              "      <td>OAS2_0002_MR3</td>\n",
              "      <td>Demented</td>\n",
              "      <td>3</td>\n",
              "      <td>1895</td>\n",
              "      <td>M</td>\n",
              "      <td>80</td>\n",
              "      <td>12</td>\n",
              "      <td>NaN</td>\n",
              "      <td>22.0</td>\n",
              "      <td>1698</td>\n",
              "      <td>0.701</td>\n",
              "      <td>1.034</td>\n",
              "    </tr>\n",
              "    <tr>\n",
              "      <th>...</th>\n",
              "      <td>...</td>\n",
              "      <td>...</td>\n",
              "      <td>...</td>\n",
              "      <td>...</td>\n",
              "      <td>...</td>\n",
              "      <td>...</td>\n",
              "      <td>...</td>\n",
              "      <td>...</td>\n",
              "      <td>...</td>\n",
              "      <td>...</td>\n",
              "      <td>...</td>\n",
              "      <td>...</td>\n",
              "      <td>...</td>\n",
              "    </tr>\n",
              "    <tr>\n",
              "      <th>368</th>\n",
              "      <td>OAS2_0185</td>\n",
              "      <td>OAS2_0185_MR2</td>\n",
              "      <td>Demented</td>\n",
              "      <td>2</td>\n",
              "      <td>842</td>\n",
              "      <td>M</td>\n",
              "      <td>82</td>\n",
              "      <td>16</td>\n",
              "      <td>1.0</td>\n",
              "      <td>28.0</td>\n",
              "      <td>1693</td>\n",
              "      <td>0.694</td>\n",
              "      <td>1.037</td>\n",
              "    </tr>\n",
              "    <tr>\n",
              "      <th>369</th>\n",
              "      <td>OAS2_0185</td>\n",
              "      <td>OAS2_0185_MR3</td>\n",
              "      <td>Demented</td>\n",
              "      <td>3</td>\n",
              "      <td>2297</td>\n",
              "      <td>M</td>\n",
              "      <td>86</td>\n",
              "      <td>16</td>\n",
              "      <td>1.0</td>\n",
              "      <td>26.0</td>\n",
              "      <td>1688</td>\n",
              "      <td>0.675</td>\n",
              "      <td>1.040</td>\n",
              "    </tr>\n",
              "    <tr>\n",
              "      <th>370</th>\n",
              "      <td>OAS2_0186</td>\n",
              "      <td>OAS2_0186_MR1</td>\n",
              "      <td>Nondemented</td>\n",
              "      <td>1</td>\n",
              "      <td>0</td>\n",
              "      <td>F</td>\n",
              "      <td>61</td>\n",
              "      <td>13</td>\n",
              "      <td>2.0</td>\n",
              "      <td>30.0</td>\n",
              "      <td>1319</td>\n",
              "      <td>0.801</td>\n",
              "      <td>1.331</td>\n",
              "    </tr>\n",
              "    <tr>\n",
              "      <th>371</th>\n",
              "      <td>OAS2_0186</td>\n",
              "      <td>OAS2_0186_MR2</td>\n",
              "      <td>Nondemented</td>\n",
              "      <td>2</td>\n",
              "      <td>763</td>\n",
              "      <td>F</td>\n",
              "      <td>63</td>\n",
              "      <td>13</td>\n",
              "      <td>2.0</td>\n",
              "      <td>30.0</td>\n",
              "      <td>1327</td>\n",
              "      <td>0.796</td>\n",
              "      <td>1.323</td>\n",
              "    </tr>\n",
              "    <tr>\n",
              "      <th>372</th>\n",
              "      <td>OAS2_0186</td>\n",
              "      <td>OAS2_0186_MR3</td>\n",
              "      <td>Nondemented</td>\n",
              "      <td>3</td>\n",
              "      <td>1608</td>\n",
              "      <td>F</td>\n",
              "      <td>65</td>\n",
              "      <td>13</td>\n",
              "      <td>2.0</td>\n",
              "      <td>30.0</td>\n",
              "      <td>1333</td>\n",
              "      <td>0.801</td>\n",
              "      <td>1.317</td>\n",
              "    </tr>\n",
              "  </tbody>\n",
              "</table>\n",
              "<p>373 rows × 13 columns</p>\n",
              "</div>"
            ],
            "text/plain": [
              "    Subject ID         MRI ID        Group  Visit  ...  MMSE  eTIV   nWBV    ASF\n",
              "0    OAS2_0001  OAS2_0001_MR1  Nondemented      1  ...  27.0  1987  0.696  0.883\n",
              "1    OAS2_0001  OAS2_0001_MR2  Nondemented      2  ...  30.0  2004  0.681  0.876\n",
              "2    OAS2_0002  OAS2_0002_MR1     Demented      1  ...  23.0  1678  0.736  1.046\n",
              "3    OAS2_0002  OAS2_0002_MR2     Demented      2  ...  28.0  1738  0.713  1.010\n",
              "4    OAS2_0002  OAS2_0002_MR3     Demented      3  ...  22.0  1698  0.701  1.034\n",
              "..         ...            ...          ...    ...  ...   ...   ...    ...    ...\n",
              "368  OAS2_0185  OAS2_0185_MR2     Demented      2  ...  28.0  1693  0.694  1.037\n",
              "369  OAS2_0185  OAS2_0185_MR3     Demented      3  ...  26.0  1688  0.675  1.040\n",
              "370  OAS2_0186  OAS2_0186_MR1  Nondemented      1  ...  30.0  1319  0.801  1.331\n",
              "371  OAS2_0186  OAS2_0186_MR2  Nondemented      2  ...  30.0  1327  0.796  1.323\n",
              "372  OAS2_0186  OAS2_0186_MR3  Nondemented      3  ...  30.0  1333  0.801  1.317\n",
              "\n",
              "[373 rows x 13 columns]"
            ]
          },
          "metadata": {},
          "execution_count": 4
        }
      ]
    },
    {
      "cell_type": "code",
      "metadata": {
        "id": "FT_oKlPRjgH7",
        "colab": {
          "base_uri": "https://localhost:8080/",
          "height": 175
        },
        "outputId": "f9efc45b-fc57-482a-c4aa-0fc5ad091289"
      },
      "source": [
        "# shows n entries from the beginning of the dataset \n",
        "#  default = 5 \n",
        "df.head(4)  "
      ],
      "execution_count": 5,
      "outputs": [
        {
          "output_type": "execute_result",
          "data": {
            "text/html": [
              "<div>\n",
              "<style scoped>\n",
              "    .dataframe tbody tr th:only-of-type {\n",
              "        vertical-align: middle;\n",
              "    }\n",
              "\n",
              "    .dataframe tbody tr th {\n",
              "        vertical-align: top;\n",
              "    }\n",
              "\n",
              "    .dataframe thead th {\n",
              "        text-align: right;\n",
              "    }\n",
              "</style>\n",
              "<table border=\"1\" class=\"dataframe\">\n",
              "  <thead>\n",
              "    <tr style=\"text-align: right;\">\n",
              "      <th></th>\n",
              "      <th>Subject ID</th>\n",
              "      <th>MRI ID</th>\n",
              "      <th>Group</th>\n",
              "      <th>Visit</th>\n",
              "      <th>MR Delay</th>\n",
              "      <th>M/F</th>\n",
              "      <th>Age</th>\n",
              "      <th>EDUC</th>\n",
              "      <th>SES</th>\n",
              "      <th>MMSE</th>\n",
              "      <th>eTIV</th>\n",
              "      <th>nWBV</th>\n",
              "      <th>ASF</th>\n",
              "    </tr>\n",
              "  </thead>\n",
              "  <tbody>\n",
              "    <tr>\n",
              "      <th>0</th>\n",
              "      <td>OAS2_0001</td>\n",
              "      <td>OAS2_0001_MR1</td>\n",
              "      <td>Nondemented</td>\n",
              "      <td>1</td>\n",
              "      <td>0</td>\n",
              "      <td>M</td>\n",
              "      <td>87</td>\n",
              "      <td>14</td>\n",
              "      <td>2.0</td>\n",
              "      <td>27.0</td>\n",
              "      <td>1987</td>\n",
              "      <td>0.696</td>\n",
              "      <td>0.883</td>\n",
              "    </tr>\n",
              "    <tr>\n",
              "      <th>1</th>\n",
              "      <td>OAS2_0001</td>\n",
              "      <td>OAS2_0001_MR2</td>\n",
              "      <td>Nondemented</td>\n",
              "      <td>2</td>\n",
              "      <td>457</td>\n",
              "      <td>M</td>\n",
              "      <td>88</td>\n",
              "      <td>14</td>\n",
              "      <td>2.0</td>\n",
              "      <td>30.0</td>\n",
              "      <td>2004</td>\n",
              "      <td>0.681</td>\n",
              "      <td>0.876</td>\n",
              "    </tr>\n",
              "    <tr>\n",
              "      <th>2</th>\n",
              "      <td>OAS2_0002</td>\n",
              "      <td>OAS2_0002_MR1</td>\n",
              "      <td>Demented</td>\n",
              "      <td>1</td>\n",
              "      <td>0</td>\n",
              "      <td>M</td>\n",
              "      <td>75</td>\n",
              "      <td>12</td>\n",
              "      <td>NaN</td>\n",
              "      <td>23.0</td>\n",
              "      <td>1678</td>\n",
              "      <td>0.736</td>\n",
              "      <td>1.046</td>\n",
              "    </tr>\n",
              "    <tr>\n",
              "      <th>3</th>\n",
              "      <td>OAS2_0002</td>\n",
              "      <td>OAS2_0002_MR2</td>\n",
              "      <td>Demented</td>\n",
              "      <td>2</td>\n",
              "      <td>560</td>\n",
              "      <td>M</td>\n",
              "      <td>76</td>\n",
              "      <td>12</td>\n",
              "      <td>NaN</td>\n",
              "      <td>28.0</td>\n",
              "      <td>1738</td>\n",
              "      <td>0.713</td>\n",
              "      <td>1.010</td>\n",
              "    </tr>\n",
              "  </tbody>\n",
              "</table>\n",
              "</div>"
            ],
            "text/plain": [
              "  Subject ID         MRI ID        Group  Visit  ...  MMSE  eTIV   nWBV    ASF\n",
              "0  OAS2_0001  OAS2_0001_MR1  Nondemented      1  ...  27.0  1987  0.696  0.883\n",
              "1  OAS2_0001  OAS2_0001_MR2  Nondemented      2  ...  30.0  2004  0.681  0.876\n",
              "2  OAS2_0002  OAS2_0002_MR1     Demented      1  ...  23.0  1678  0.736  1.046\n",
              "3  OAS2_0002  OAS2_0002_MR2     Demented      2  ...  28.0  1738  0.713  1.010\n",
              "\n",
              "[4 rows x 13 columns]"
            ]
          },
          "metadata": {},
          "execution_count": 5
        }
      ]
    },
    {
      "cell_type": "code",
      "metadata": {
        "id": "EAfCFUsajrdV",
        "colab": {
          "base_uri": "https://localhost:8080/",
          "height": 206
        },
        "outputId": "190f19ce-644b-4b02-951a-b2feca1c30fb"
      },
      "source": [
        "# shows n entries from the end of the dataset \n",
        "#  default = 5 \n",
        "df.tail()"
      ],
      "execution_count": 6,
      "outputs": [
        {
          "output_type": "execute_result",
          "data": {
            "text/html": [
              "<div>\n",
              "<style scoped>\n",
              "    .dataframe tbody tr th:only-of-type {\n",
              "        vertical-align: middle;\n",
              "    }\n",
              "\n",
              "    .dataframe tbody tr th {\n",
              "        vertical-align: top;\n",
              "    }\n",
              "\n",
              "    .dataframe thead th {\n",
              "        text-align: right;\n",
              "    }\n",
              "</style>\n",
              "<table border=\"1\" class=\"dataframe\">\n",
              "  <thead>\n",
              "    <tr style=\"text-align: right;\">\n",
              "      <th></th>\n",
              "      <th>Subject ID</th>\n",
              "      <th>MRI ID</th>\n",
              "      <th>Group</th>\n",
              "      <th>Visit</th>\n",
              "      <th>MR Delay</th>\n",
              "      <th>M/F</th>\n",
              "      <th>Age</th>\n",
              "      <th>EDUC</th>\n",
              "      <th>SES</th>\n",
              "      <th>MMSE</th>\n",
              "      <th>eTIV</th>\n",
              "      <th>nWBV</th>\n",
              "      <th>ASF</th>\n",
              "    </tr>\n",
              "  </thead>\n",
              "  <tbody>\n",
              "    <tr>\n",
              "      <th>368</th>\n",
              "      <td>OAS2_0185</td>\n",
              "      <td>OAS2_0185_MR2</td>\n",
              "      <td>Demented</td>\n",
              "      <td>2</td>\n",
              "      <td>842</td>\n",
              "      <td>M</td>\n",
              "      <td>82</td>\n",
              "      <td>16</td>\n",
              "      <td>1.0</td>\n",
              "      <td>28.0</td>\n",
              "      <td>1693</td>\n",
              "      <td>0.694</td>\n",
              "      <td>1.037</td>\n",
              "    </tr>\n",
              "    <tr>\n",
              "      <th>369</th>\n",
              "      <td>OAS2_0185</td>\n",
              "      <td>OAS2_0185_MR3</td>\n",
              "      <td>Demented</td>\n",
              "      <td>3</td>\n",
              "      <td>2297</td>\n",
              "      <td>M</td>\n",
              "      <td>86</td>\n",
              "      <td>16</td>\n",
              "      <td>1.0</td>\n",
              "      <td>26.0</td>\n",
              "      <td>1688</td>\n",
              "      <td>0.675</td>\n",
              "      <td>1.040</td>\n",
              "    </tr>\n",
              "    <tr>\n",
              "      <th>370</th>\n",
              "      <td>OAS2_0186</td>\n",
              "      <td>OAS2_0186_MR1</td>\n",
              "      <td>Nondemented</td>\n",
              "      <td>1</td>\n",
              "      <td>0</td>\n",
              "      <td>F</td>\n",
              "      <td>61</td>\n",
              "      <td>13</td>\n",
              "      <td>2.0</td>\n",
              "      <td>30.0</td>\n",
              "      <td>1319</td>\n",
              "      <td>0.801</td>\n",
              "      <td>1.331</td>\n",
              "    </tr>\n",
              "    <tr>\n",
              "      <th>371</th>\n",
              "      <td>OAS2_0186</td>\n",
              "      <td>OAS2_0186_MR2</td>\n",
              "      <td>Nondemented</td>\n",
              "      <td>2</td>\n",
              "      <td>763</td>\n",
              "      <td>F</td>\n",
              "      <td>63</td>\n",
              "      <td>13</td>\n",
              "      <td>2.0</td>\n",
              "      <td>30.0</td>\n",
              "      <td>1327</td>\n",
              "      <td>0.796</td>\n",
              "      <td>1.323</td>\n",
              "    </tr>\n",
              "    <tr>\n",
              "      <th>372</th>\n",
              "      <td>OAS2_0186</td>\n",
              "      <td>OAS2_0186_MR3</td>\n",
              "      <td>Nondemented</td>\n",
              "      <td>3</td>\n",
              "      <td>1608</td>\n",
              "      <td>F</td>\n",
              "      <td>65</td>\n",
              "      <td>13</td>\n",
              "      <td>2.0</td>\n",
              "      <td>30.0</td>\n",
              "      <td>1333</td>\n",
              "      <td>0.801</td>\n",
              "      <td>1.317</td>\n",
              "    </tr>\n",
              "  </tbody>\n",
              "</table>\n",
              "</div>"
            ],
            "text/plain": [
              "    Subject ID         MRI ID        Group  Visit  ...  MMSE  eTIV   nWBV    ASF\n",
              "368  OAS2_0185  OAS2_0185_MR2     Demented      2  ...  28.0  1693  0.694  1.037\n",
              "369  OAS2_0185  OAS2_0185_MR3     Demented      3  ...  26.0  1688  0.675  1.040\n",
              "370  OAS2_0186  OAS2_0186_MR1  Nondemented      1  ...  30.0  1319  0.801  1.331\n",
              "371  OAS2_0186  OAS2_0186_MR2  Nondemented      2  ...  30.0  1327  0.796  1.323\n",
              "372  OAS2_0186  OAS2_0186_MR3  Nondemented      3  ...  30.0  1333  0.801  1.317\n",
              "\n",
              "[5 rows x 13 columns]"
            ]
          },
          "metadata": {},
          "execution_count": 6
        }
      ]
    },
    {
      "cell_type": "code",
      "metadata": {
        "id": "tdQjZoVIuHgC",
        "colab": {
          "base_uri": "https://localhost:8080/"
        },
        "outputId": "25c5fbaf-34f5-46ed-d19f-df876acd8493"
      },
      "source": [
        "# returns the size of the dataframe\n",
        "df.shape"
      ],
      "execution_count": 7,
      "outputs": [
        {
          "output_type": "execute_result",
          "data": {
            "text/plain": [
              "(373, 13)"
            ]
          },
          "metadata": {},
          "execution_count": 7
        }
      ]
    },
    {
      "cell_type": "code",
      "metadata": {
        "id": "zWySJoTGkNzJ",
        "colab": {
          "base_uri": "https://localhost:8080/"
        },
        "outputId": "b3d4998a-8e3a-47b0-d3e0-93d5122c4da5"
      },
      "source": [
        "# outputs the name of the columns \n",
        "df.columns"
      ],
      "execution_count": 8,
      "outputs": [
        {
          "output_type": "execute_result",
          "data": {
            "text/plain": [
              "Index(['Subject ID', 'MRI ID', 'Group', 'Visit', 'MR Delay', 'M/F', 'Age',\n",
              "       'EDUC', 'SES', 'MMSE', 'eTIV', 'nWBV', 'ASF'],\n",
              "      dtype='object')"
            ]
          },
          "metadata": {},
          "execution_count": 8
        }
      ]
    },
    {
      "cell_type": "code",
      "metadata": {
        "id": "kvrXyTnMsSfp",
        "colab": {
          "base_uri": "https://localhost:8080/"
        },
        "outputId": "c9ab4d0a-afc7-4c00-e99e-3dd1e9e9f5b9"
      },
      "source": [
        "# returns the data type and the number of entries of all columns \n",
        "df.info()"
      ],
      "execution_count": 9,
      "outputs": [
        {
          "output_type": "stream",
          "name": "stdout",
          "text": [
            "<class 'pandas.core.frame.DataFrame'>\n",
            "RangeIndex: 373 entries, 0 to 372\n",
            "Data columns (total 13 columns):\n",
            " #   Column      Non-Null Count  Dtype  \n",
            "---  ------      --------------  -----  \n",
            " 0   Subject ID  373 non-null    object \n",
            " 1   MRI ID      373 non-null    object \n",
            " 2   Group       373 non-null    object \n",
            " 3   Visit       373 non-null    int64  \n",
            " 4   MR Delay    373 non-null    int64  \n",
            " 5   M/F         373 non-null    object \n",
            " 6   Age         373 non-null    int64  \n",
            " 7   EDUC        373 non-null    int64  \n",
            " 8   SES         354 non-null    float64\n",
            " 9   MMSE        371 non-null    float64\n",
            " 10  eTIV        373 non-null    int64  \n",
            " 11  nWBV        373 non-null    float64\n",
            " 12  ASF         373 non-null    float64\n",
            "dtypes: float64(4), int64(5), object(4)\n",
            "memory usage: 38.0+ KB\n"
          ]
        }
      ]
    },
    {
      "cell_type": "code",
      "metadata": {
        "id": "lAub0fCaun5_",
        "colab": {
          "base_uri": "https://localhost:8080/"
        },
        "outputId": "a956a65d-60f2-432b-861b-55afb9b2b1fa"
      },
      "source": [
        "# returns the unique values of a column \n",
        "df['M/F'].unique()"
      ],
      "execution_count": 10,
      "outputs": [
        {
          "output_type": "execute_result",
          "data": {
            "text/plain": [
              "array(['M', 'F'], dtype=object)"
            ]
          },
          "metadata": {},
          "execution_count": 10
        }
      ]
    },
    {
      "cell_type": "code",
      "metadata": {
        "colab": {
          "base_uri": "https://localhost:8080/"
        },
        "id": "zESdeABQG-Pm",
        "outputId": "5e0bcd29-c8b0-49ef-fa0e-77322edc9bfd"
      },
      "source": [
        "df['Group'].unique()"
      ],
      "execution_count": 11,
      "outputs": [
        {
          "output_type": "execute_result",
          "data": {
            "text/plain": [
              "array(['Nondemented', 'Demented'], dtype=object)"
            ]
          },
          "metadata": {},
          "execution_count": 11
        }
      ]
    },
    {
      "cell_type": "code",
      "metadata": {
        "id": "6PmXwCuXtgLV",
        "colab": {
          "base_uri": "https://localhost:8080/"
        },
        "outputId": "22c39e5d-94d0-43bf-d5ca-6b94a00bea6b"
      },
      "source": [
        "# shows the count of unique value in a column\n",
        "df['M/F'].value_counts(dropna = False)"
      ],
      "execution_count": 12,
      "outputs": [
        {
          "output_type": "execute_result",
          "data": {
            "text/plain": [
              "F    213\n",
              "M    160\n",
              "Name: M/F, dtype: int64"
            ]
          },
          "metadata": {},
          "execution_count": 12
        }
      ]
    },
    {
      "cell_type": "code",
      "metadata": {
        "id": "9zfuJqqCuZ-u",
        "colab": {
          "base_uri": "https://localhost:8080/"
        },
        "outputId": "970d967f-e605-44b2-c0fb-4351f6473804"
      },
      "source": [
        "df['SES'].value_counts(dropna = True)\n",
        "\n"
      ],
      "execution_count": 13,
      "outputs": [
        {
          "output_type": "execute_result",
          "data": {
            "text/plain": [
              "2.0    103\n",
              "1.0     88\n",
              "3.0     82\n",
              "4.0     74\n",
              "5.0      7\n",
              "Name: SES, dtype: int64"
            ]
          },
          "metadata": {},
          "execution_count": 13
        }
      ]
    },
    {
      "cell_type": "code",
      "metadata": {
        "id": "KRuznRQU_GmE"
      },
      "source": [
        "# renames the columns\n",
        "# inplace makes changes to the original dataset \n",
        "# in case inplace = False , a temporary dataframe instance is created\n",
        "df.rename(columns = {'M/F' : 'Gender'} , inplace = True)"
      ],
      "execution_count": 14,
      "outputs": []
    },
    {
      "cell_type": "code",
      "metadata": {
        "id": "Csw3mjrwACad",
        "colab": {
          "base_uri": "https://localhost:8080/",
          "height": 441
        },
        "outputId": "2761b18f-c2f3-46b1-d980-0c467b7ee520"
      },
      "source": [
        "# renamed column \n",
        "df"
      ],
      "execution_count": 15,
      "outputs": [
        {
          "output_type": "execute_result",
          "data": {
            "text/html": [
              "<div>\n",
              "<style scoped>\n",
              "    .dataframe tbody tr th:only-of-type {\n",
              "        vertical-align: middle;\n",
              "    }\n",
              "\n",
              "    .dataframe tbody tr th {\n",
              "        vertical-align: top;\n",
              "    }\n",
              "\n",
              "    .dataframe thead th {\n",
              "        text-align: right;\n",
              "    }\n",
              "</style>\n",
              "<table border=\"1\" class=\"dataframe\">\n",
              "  <thead>\n",
              "    <tr style=\"text-align: right;\">\n",
              "      <th></th>\n",
              "      <th>Subject ID</th>\n",
              "      <th>MRI ID</th>\n",
              "      <th>Group</th>\n",
              "      <th>Visit</th>\n",
              "      <th>MR Delay</th>\n",
              "      <th>Gender</th>\n",
              "      <th>Age</th>\n",
              "      <th>EDUC</th>\n",
              "      <th>SES</th>\n",
              "      <th>MMSE</th>\n",
              "      <th>eTIV</th>\n",
              "      <th>nWBV</th>\n",
              "      <th>ASF</th>\n",
              "    </tr>\n",
              "  </thead>\n",
              "  <tbody>\n",
              "    <tr>\n",
              "      <th>0</th>\n",
              "      <td>OAS2_0001</td>\n",
              "      <td>OAS2_0001_MR1</td>\n",
              "      <td>Nondemented</td>\n",
              "      <td>1</td>\n",
              "      <td>0</td>\n",
              "      <td>M</td>\n",
              "      <td>87</td>\n",
              "      <td>14</td>\n",
              "      <td>2.0</td>\n",
              "      <td>27.0</td>\n",
              "      <td>1987</td>\n",
              "      <td>0.696</td>\n",
              "      <td>0.883</td>\n",
              "    </tr>\n",
              "    <tr>\n",
              "      <th>1</th>\n",
              "      <td>OAS2_0001</td>\n",
              "      <td>OAS2_0001_MR2</td>\n",
              "      <td>Nondemented</td>\n",
              "      <td>2</td>\n",
              "      <td>457</td>\n",
              "      <td>M</td>\n",
              "      <td>88</td>\n",
              "      <td>14</td>\n",
              "      <td>2.0</td>\n",
              "      <td>30.0</td>\n",
              "      <td>2004</td>\n",
              "      <td>0.681</td>\n",
              "      <td>0.876</td>\n",
              "    </tr>\n",
              "    <tr>\n",
              "      <th>2</th>\n",
              "      <td>OAS2_0002</td>\n",
              "      <td>OAS2_0002_MR1</td>\n",
              "      <td>Demented</td>\n",
              "      <td>1</td>\n",
              "      <td>0</td>\n",
              "      <td>M</td>\n",
              "      <td>75</td>\n",
              "      <td>12</td>\n",
              "      <td>NaN</td>\n",
              "      <td>23.0</td>\n",
              "      <td>1678</td>\n",
              "      <td>0.736</td>\n",
              "      <td>1.046</td>\n",
              "    </tr>\n",
              "    <tr>\n",
              "      <th>3</th>\n",
              "      <td>OAS2_0002</td>\n",
              "      <td>OAS2_0002_MR2</td>\n",
              "      <td>Demented</td>\n",
              "      <td>2</td>\n",
              "      <td>560</td>\n",
              "      <td>M</td>\n",
              "      <td>76</td>\n",
              "      <td>12</td>\n",
              "      <td>NaN</td>\n",
              "      <td>28.0</td>\n",
              "      <td>1738</td>\n",
              "      <td>0.713</td>\n",
              "      <td>1.010</td>\n",
              "    </tr>\n",
              "    <tr>\n",
              "      <th>4</th>\n",
              "      <td>OAS2_0002</td>\n",
              "      <td>OAS2_0002_MR3</td>\n",
              "      <td>Demented</td>\n",
              "      <td>3</td>\n",
              "      <td>1895</td>\n",
              "      <td>M</td>\n",
              "      <td>80</td>\n",
              "      <td>12</td>\n",
              "      <td>NaN</td>\n",
              "      <td>22.0</td>\n",
              "      <td>1698</td>\n",
              "      <td>0.701</td>\n",
              "      <td>1.034</td>\n",
              "    </tr>\n",
              "    <tr>\n",
              "      <th>...</th>\n",
              "      <td>...</td>\n",
              "      <td>...</td>\n",
              "      <td>...</td>\n",
              "      <td>...</td>\n",
              "      <td>...</td>\n",
              "      <td>...</td>\n",
              "      <td>...</td>\n",
              "      <td>...</td>\n",
              "      <td>...</td>\n",
              "      <td>...</td>\n",
              "      <td>...</td>\n",
              "      <td>...</td>\n",
              "      <td>...</td>\n",
              "    </tr>\n",
              "    <tr>\n",
              "      <th>368</th>\n",
              "      <td>OAS2_0185</td>\n",
              "      <td>OAS2_0185_MR2</td>\n",
              "      <td>Demented</td>\n",
              "      <td>2</td>\n",
              "      <td>842</td>\n",
              "      <td>M</td>\n",
              "      <td>82</td>\n",
              "      <td>16</td>\n",
              "      <td>1.0</td>\n",
              "      <td>28.0</td>\n",
              "      <td>1693</td>\n",
              "      <td>0.694</td>\n",
              "      <td>1.037</td>\n",
              "    </tr>\n",
              "    <tr>\n",
              "      <th>369</th>\n",
              "      <td>OAS2_0185</td>\n",
              "      <td>OAS2_0185_MR3</td>\n",
              "      <td>Demented</td>\n",
              "      <td>3</td>\n",
              "      <td>2297</td>\n",
              "      <td>M</td>\n",
              "      <td>86</td>\n",
              "      <td>16</td>\n",
              "      <td>1.0</td>\n",
              "      <td>26.0</td>\n",
              "      <td>1688</td>\n",
              "      <td>0.675</td>\n",
              "      <td>1.040</td>\n",
              "    </tr>\n",
              "    <tr>\n",
              "      <th>370</th>\n",
              "      <td>OAS2_0186</td>\n",
              "      <td>OAS2_0186_MR1</td>\n",
              "      <td>Nondemented</td>\n",
              "      <td>1</td>\n",
              "      <td>0</td>\n",
              "      <td>F</td>\n",
              "      <td>61</td>\n",
              "      <td>13</td>\n",
              "      <td>2.0</td>\n",
              "      <td>30.0</td>\n",
              "      <td>1319</td>\n",
              "      <td>0.801</td>\n",
              "      <td>1.331</td>\n",
              "    </tr>\n",
              "    <tr>\n",
              "      <th>371</th>\n",
              "      <td>OAS2_0186</td>\n",
              "      <td>OAS2_0186_MR2</td>\n",
              "      <td>Nondemented</td>\n",
              "      <td>2</td>\n",
              "      <td>763</td>\n",
              "      <td>F</td>\n",
              "      <td>63</td>\n",
              "      <td>13</td>\n",
              "      <td>2.0</td>\n",
              "      <td>30.0</td>\n",
              "      <td>1327</td>\n",
              "      <td>0.796</td>\n",
              "      <td>1.323</td>\n",
              "    </tr>\n",
              "    <tr>\n",
              "      <th>372</th>\n",
              "      <td>OAS2_0186</td>\n",
              "      <td>OAS2_0186_MR3</td>\n",
              "      <td>Nondemented</td>\n",
              "      <td>3</td>\n",
              "      <td>1608</td>\n",
              "      <td>F</td>\n",
              "      <td>65</td>\n",
              "      <td>13</td>\n",
              "      <td>2.0</td>\n",
              "      <td>30.0</td>\n",
              "      <td>1333</td>\n",
              "      <td>0.801</td>\n",
              "      <td>1.317</td>\n",
              "    </tr>\n",
              "  </tbody>\n",
              "</table>\n",
              "<p>373 rows × 13 columns</p>\n",
              "</div>"
            ],
            "text/plain": [
              "    Subject ID         MRI ID        Group  Visit  ...  MMSE  eTIV   nWBV    ASF\n",
              "0    OAS2_0001  OAS2_0001_MR1  Nondemented      1  ...  27.0  1987  0.696  0.883\n",
              "1    OAS2_0001  OAS2_0001_MR2  Nondemented      2  ...  30.0  2004  0.681  0.876\n",
              "2    OAS2_0002  OAS2_0002_MR1     Demented      1  ...  23.0  1678  0.736  1.046\n",
              "3    OAS2_0002  OAS2_0002_MR2     Demented      2  ...  28.0  1738  0.713  1.010\n",
              "4    OAS2_0002  OAS2_0002_MR3     Demented      3  ...  22.0  1698  0.701  1.034\n",
              "..         ...            ...          ...    ...  ...   ...   ...    ...    ...\n",
              "368  OAS2_0185  OAS2_0185_MR2     Demented      2  ...  28.0  1693  0.694  1.037\n",
              "369  OAS2_0185  OAS2_0185_MR3     Demented      3  ...  26.0  1688  0.675  1.040\n",
              "370  OAS2_0186  OAS2_0186_MR1  Nondemented      1  ...  30.0  1319  0.801  1.331\n",
              "371  OAS2_0186  OAS2_0186_MR2  Nondemented      2  ...  30.0  1327  0.796  1.323\n",
              "372  OAS2_0186  OAS2_0186_MR3  Nondemented      3  ...  30.0  1333  0.801  1.317\n",
              "\n",
              "[373 rows x 13 columns]"
            ]
          },
          "metadata": {},
          "execution_count": 15
        }
      ]
    },
    {
      "cell_type": "code",
      "metadata": {
        "id": "LV3nzKNpAUir"
      },
      "source": [
        "# the columns which provide no info of relevance are dropped from the dataframe \n",
        "# axis - 0 : rows , \n",
        "df.drop(labels = {'Subject ID' , 'MRI ID' ,'Visit' , 'MR Delay' } , axis = 1 , inplace = True)"
      ],
      "execution_count": 16,
      "outputs": []
    },
    {
      "cell_type": "code",
      "metadata": {
        "id": "DOVGmN000c9-",
        "colab": {
          "base_uri": "https://localhost:8080/",
          "height": 423
        },
        "outputId": "651daca8-5621-407f-eeb0-2fe01038017c"
      },
      "source": [
        "df"
      ],
      "execution_count": 17,
      "outputs": [
        {
          "output_type": "execute_result",
          "data": {
            "text/html": [
              "<div>\n",
              "<style scoped>\n",
              "    .dataframe tbody tr th:only-of-type {\n",
              "        vertical-align: middle;\n",
              "    }\n",
              "\n",
              "    .dataframe tbody tr th {\n",
              "        vertical-align: top;\n",
              "    }\n",
              "\n",
              "    .dataframe thead th {\n",
              "        text-align: right;\n",
              "    }\n",
              "</style>\n",
              "<table border=\"1\" class=\"dataframe\">\n",
              "  <thead>\n",
              "    <tr style=\"text-align: right;\">\n",
              "      <th></th>\n",
              "      <th>Group</th>\n",
              "      <th>Gender</th>\n",
              "      <th>Age</th>\n",
              "      <th>EDUC</th>\n",
              "      <th>SES</th>\n",
              "      <th>MMSE</th>\n",
              "      <th>eTIV</th>\n",
              "      <th>nWBV</th>\n",
              "      <th>ASF</th>\n",
              "    </tr>\n",
              "  </thead>\n",
              "  <tbody>\n",
              "    <tr>\n",
              "      <th>0</th>\n",
              "      <td>Nondemented</td>\n",
              "      <td>M</td>\n",
              "      <td>87</td>\n",
              "      <td>14</td>\n",
              "      <td>2.0</td>\n",
              "      <td>27.0</td>\n",
              "      <td>1987</td>\n",
              "      <td>0.696</td>\n",
              "      <td>0.883</td>\n",
              "    </tr>\n",
              "    <tr>\n",
              "      <th>1</th>\n",
              "      <td>Nondemented</td>\n",
              "      <td>M</td>\n",
              "      <td>88</td>\n",
              "      <td>14</td>\n",
              "      <td>2.0</td>\n",
              "      <td>30.0</td>\n",
              "      <td>2004</td>\n",
              "      <td>0.681</td>\n",
              "      <td>0.876</td>\n",
              "    </tr>\n",
              "    <tr>\n",
              "      <th>2</th>\n",
              "      <td>Demented</td>\n",
              "      <td>M</td>\n",
              "      <td>75</td>\n",
              "      <td>12</td>\n",
              "      <td>NaN</td>\n",
              "      <td>23.0</td>\n",
              "      <td>1678</td>\n",
              "      <td>0.736</td>\n",
              "      <td>1.046</td>\n",
              "    </tr>\n",
              "    <tr>\n",
              "      <th>3</th>\n",
              "      <td>Demented</td>\n",
              "      <td>M</td>\n",
              "      <td>76</td>\n",
              "      <td>12</td>\n",
              "      <td>NaN</td>\n",
              "      <td>28.0</td>\n",
              "      <td>1738</td>\n",
              "      <td>0.713</td>\n",
              "      <td>1.010</td>\n",
              "    </tr>\n",
              "    <tr>\n",
              "      <th>4</th>\n",
              "      <td>Demented</td>\n",
              "      <td>M</td>\n",
              "      <td>80</td>\n",
              "      <td>12</td>\n",
              "      <td>NaN</td>\n",
              "      <td>22.0</td>\n",
              "      <td>1698</td>\n",
              "      <td>0.701</td>\n",
              "      <td>1.034</td>\n",
              "    </tr>\n",
              "    <tr>\n",
              "      <th>...</th>\n",
              "      <td>...</td>\n",
              "      <td>...</td>\n",
              "      <td>...</td>\n",
              "      <td>...</td>\n",
              "      <td>...</td>\n",
              "      <td>...</td>\n",
              "      <td>...</td>\n",
              "      <td>...</td>\n",
              "      <td>...</td>\n",
              "    </tr>\n",
              "    <tr>\n",
              "      <th>368</th>\n",
              "      <td>Demented</td>\n",
              "      <td>M</td>\n",
              "      <td>82</td>\n",
              "      <td>16</td>\n",
              "      <td>1.0</td>\n",
              "      <td>28.0</td>\n",
              "      <td>1693</td>\n",
              "      <td>0.694</td>\n",
              "      <td>1.037</td>\n",
              "    </tr>\n",
              "    <tr>\n",
              "      <th>369</th>\n",
              "      <td>Demented</td>\n",
              "      <td>M</td>\n",
              "      <td>86</td>\n",
              "      <td>16</td>\n",
              "      <td>1.0</td>\n",
              "      <td>26.0</td>\n",
              "      <td>1688</td>\n",
              "      <td>0.675</td>\n",
              "      <td>1.040</td>\n",
              "    </tr>\n",
              "    <tr>\n",
              "      <th>370</th>\n",
              "      <td>Nondemented</td>\n",
              "      <td>F</td>\n",
              "      <td>61</td>\n",
              "      <td>13</td>\n",
              "      <td>2.0</td>\n",
              "      <td>30.0</td>\n",
              "      <td>1319</td>\n",
              "      <td>0.801</td>\n",
              "      <td>1.331</td>\n",
              "    </tr>\n",
              "    <tr>\n",
              "      <th>371</th>\n",
              "      <td>Nondemented</td>\n",
              "      <td>F</td>\n",
              "      <td>63</td>\n",
              "      <td>13</td>\n",
              "      <td>2.0</td>\n",
              "      <td>30.0</td>\n",
              "      <td>1327</td>\n",
              "      <td>0.796</td>\n",
              "      <td>1.323</td>\n",
              "    </tr>\n",
              "    <tr>\n",
              "      <th>372</th>\n",
              "      <td>Nondemented</td>\n",
              "      <td>F</td>\n",
              "      <td>65</td>\n",
              "      <td>13</td>\n",
              "      <td>2.0</td>\n",
              "      <td>30.0</td>\n",
              "      <td>1333</td>\n",
              "      <td>0.801</td>\n",
              "      <td>1.317</td>\n",
              "    </tr>\n",
              "  </tbody>\n",
              "</table>\n",
              "<p>373 rows × 9 columns</p>\n",
              "</div>"
            ],
            "text/plain": [
              "           Group Gender  Age  EDUC  SES  MMSE  eTIV   nWBV    ASF\n",
              "0    Nondemented      M   87    14  2.0  27.0  1987  0.696  0.883\n",
              "1    Nondemented      M   88    14  2.0  30.0  2004  0.681  0.876\n",
              "2       Demented      M   75    12  NaN  23.0  1678  0.736  1.046\n",
              "3       Demented      M   76    12  NaN  28.0  1738  0.713  1.010\n",
              "4       Demented      M   80    12  NaN  22.0  1698  0.701  1.034\n",
              "..           ...    ...  ...   ...  ...   ...   ...    ...    ...\n",
              "368     Demented      M   82    16  1.0  28.0  1693  0.694  1.037\n",
              "369     Demented      M   86    16  1.0  26.0  1688  0.675  1.040\n",
              "370  Nondemented      F   61    13  2.0  30.0  1319  0.801  1.331\n",
              "371  Nondemented      F   63    13  2.0  30.0  1327  0.796  1.323\n",
              "372  Nondemented      F   65    13  2.0  30.0  1333  0.801  1.317\n",
              "\n",
              "[373 rows x 9 columns]"
            ]
          },
          "metadata": {},
          "execution_count": 17
        }
      ]
    },
    {
      "cell_type": "code",
      "metadata": {
        "id": "MLEPDlJnvCrc",
        "colab": {
          "base_uri": "https://localhost:8080/",
          "height": 300
        },
        "outputId": "171a9703-f9c4-4092-89dd-958f303d7e17"
      },
      "source": [
        "df.describe()"
      ],
      "execution_count": 18,
      "outputs": [
        {
          "output_type": "execute_result",
          "data": {
            "text/html": [
              "<div>\n",
              "<style scoped>\n",
              "    .dataframe tbody tr th:only-of-type {\n",
              "        vertical-align: middle;\n",
              "    }\n",
              "\n",
              "    .dataframe tbody tr th {\n",
              "        vertical-align: top;\n",
              "    }\n",
              "\n",
              "    .dataframe thead th {\n",
              "        text-align: right;\n",
              "    }\n",
              "</style>\n",
              "<table border=\"1\" class=\"dataframe\">\n",
              "  <thead>\n",
              "    <tr style=\"text-align: right;\">\n",
              "      <th></th>\n",
              "      <th>Age</th>\n",
              "      <th>EDUC</th>\n",
              "      <th>SES</th>\n",
              "      <th>MMSE</th>\n",
              "      <th>eTIV</th>\n",
              "      <th>nWBV</th>\n",
              "      <th>ASF</th>\n",
              "    </tr>\n",
              "  </thead>\n",
              "  <tbody>\n",
              "    <tr>\n",
              "      <th>count</th>\n",
              "      <td>373.000000</td>\n",
              "      <td>373.000000</td>\n",
              "      <td>354.000000</td>\n",
              "      <td>371.000000</td>\n",
              "      <td>373.000000</td>\n",
              "      <td>373.000000</td>\n",
              "      <td>373.000000</td>\n",
              "    </tr>\n",
              "    <tr>\n",
              "      <th>mean</th>\n",
              "      <td>77.013405</td>\n",
              "      <td>14.597855</td>\n",
              "      <td>2.460452</td>\n",
              "      <td>27.342318</td>\n",
              "      <td>1488.128686</td>\n",
              "      <td>0.729568</td>\n",
              "      <td>1.195461</td>\n",
              "    </tr>\n",
              "    <tr>\n",
              "      <th>std</th>\n",
              "      <td>7.640957</td>\n",
              "      <td>2.876339</td>\n",
              "      <td>1.134005</td>\n",
              "      <td>3.683244</td>\n",
              "      <td>176.139286</td>\n",
              "      <td>0.037135</td>\n",
              "      <td>0.138092</td>\n",
              "    </tr>\n",
              "    <tr>\n",
              "      <th>min</th>\n",
              "      <td>60.000000</td>\n",
              "      <td>6.000000</td>\n",
              "      <td>1.000000</td>\n",
              "      <td>4.000000</td>\n",
              "      <td>1106.000000</td>\n",
              "      <td>0.644000</td>\n",
              "      <td>0.876000</td>\n",
              "    </tr>\n",
              "    <tr>\n",
              "      <th>25%</th>\n",
              "      <td>71.000000</td>\n",
              "      <td>12.000000</td>\n",
              "      <td>2.000000</td>\n",
              "      <td>27.000000</td>\n",
              "      <td>1357.000000</td>\n",
              "      <td>0.700000</td>\n",
              "      <td>1.099000</td>\n",
              "    </tr>\n",
              "    <tr>\n",
              "      <th>50%</th>\n",
              "      <td>77.000000</td>\n",
              "      <td>15.000000</td>\n",
              "      <td>2.000000</td>\n",
              "      <td>29.000000</td>\n",
              "      <td>1470.000000</td>\n",
              "      <td>0.729000</td>\n",
              "      <td>1.194000</td>\n",
              "    </tr>\n",
              "    <tr>\n",
              "      <th>75%</th>\n",
              "      <td>82.000000</td>\n",
              "      <td>16.000000</td>\n",
              "      <td>3.000000</td>\n",
              "      <td>30.000000</td>\n",
              "      <td>1597.000000</td>\n",
              "      <td>0.756000</td>\n",
              "      <td>1.293000</td>\n",
              "    </tr>\n",
              "    <tr>\n",
              "      <th>max</th>\n",
              "      <td>98.000000</td>\n",
              "      <td>23.000000</td>\n",
              "      <td>5.000000</td>\n",
              "      <td>30.000000</td>\n",
              "      <td>2004.000000</td>\n",
              "      <td>0.837000</td>\n",
              "      <td>1.587000</td>\n",
              "    </tr>\n",
              "  </tbody>\n",
              "</table>\n",
              "</div>"
            ],
            "text/plain": [
              "              Age        EDUC         SES  ...         eTIV        nWBV         ASF\n",
              "count  373.000000  373.000000  354.000000  ...   373.000000  373.000000  373.000000\n",
              "mean    77.013405   14.597855    2.460452  ...  1488.128686    0.729568    1.195461\n",
              "std      7.640957    2.876339    1.134005  ...   176.139286    0.037135    0.138092\n",
              "min     60.000000    6.000000    1.000000  ...  1106.000000    0.644000    0.876000\n",
              "25%     71.000000   12.000000    2.000000  ...  1357.000000    0.700000    1.099000\n",
              "50%     77.000000   15.000000    2.000000  ...  1470.000000    0.729000    1.194000\n",
              "75%     82.000000   16.000000    3.000000  ...  1597.000000    0.756000    1.293000\n",
              "max     98.000000   23.000000    5.000000  ...  2004.000000    0.837000    1.587000\n",
              "\n",
              "[8 rows x 7 columns]"
            ]
          },
          "metadata": {},
          "execution_count": 18
        }
      ]
    },
    {
      "cell_type": "markdown",
      "metadata": {
        "id": "eIXIoODAox3O"
      },
      "source": [
        "**REMOVING / REPLACING NULL VALUES**"
      ]
    },
    {
      "cell_type": "code",
      "metadata": {
        "id": "D8_LSEgoz5hZ",
        "colab": {
          "base_uri": "https://localhost:8080/"
        },
        "outputId": "3acf7219-3266-4cff-b9e4-0524d1ef1984"
      },
      "source": [
        "# is null returns true for null values and false for null values \n",
        "# the sum() gives the total count of null values for each row \n",
        "\n",
        "df.isnull().sum()"
      ],
      "execution_count": 19,
      "outputs": [
        {
          "output_type": "execute_result",
          "data": {
            "text/plain": [
              "Group      0\n",
              "Gender     0\n",
              "Age        0\n",
              "EDUC       0\n",
              "SES       19\n",
              "MMSE       2\n",
              "eTIV       0\n",
              "nWBV       0\n",
              "ASF        0\n",
              "dtype: int64"
            ]
          },
          "metadata": {},
          "execution_count": 19
        }
      ]
    },
    {
      "cell_type": "code",
      "metadata": {
        "id": "vcETrT61oEi4",
        "colab": {
          "base_uri": "https://localhost:8080/"
        },
        "outputId": "9f8ed462-c975-4034-fc57-f17da7aabbee"
      },
      "source": [
        "# count() returns the count of non null values of the column \n",
        "df['SES'].count()"
      ],
      "execution_count": 20,
      "outputs": [
        {
          "output_type": "execute_result",
          "data": {
            "text/plain": [
              "354"
            ]
          },
          "metadata": {},
          "execution_count": 20
        }
      ]
    },
    {
      "cell_type": "code",
      "metadata": {
        "id": "dEQFiIDRoI-f"
      },
      "source": [
        "# drops all the rows containing null values from the dataframe \n",
        "null_rem = df.dropna()\n"
      ],
      "execution_count": 21,
      "outputs": []
    },
    {
      "cell_type": "code",
      "metadata": {
        "id": "pvNtmIg0pfdN",
        "colab": {
          "base_uri": "https://localhost:8080/"
        },
        "outputId": "104af64d-d108-4abe-ec30-06e67225a916"
      },
      "source": [
        "# comparision \n",
        "print( \"Original Dataframe : \\n\",df.head() ,\"\\n\\n\" , \"New Dataframe : \\n\" ,null_rem.head())"
      ],
      "execution_count": 22,
      "outputs": [
        {
          "output_type": "stream",
          "name": "stdout",
          "text": [
            "Original Dataframe : \n",
            "          Group Gender  Age  EDUC  SES  MMSE  eTIV   nWBV    ASF\n",
            "0  Nondemented      M   87    14  2.0  27.0  1987  0.696  0.883\n",
            "1  Nondemented      M   88    14  2.0  30.0  2004  0.681  0.876\n",
            "2     Demented      M   75    12  NaN  23.0  1678  0.736  1.046\n",
            "3     Demented      M   76    12  NaN  28.0  1738  0.713  1.010\n",
            "4     Demented      M   80    12  NaN  22.0  1698  0.701  1.034 \n",
            "\n",
            " New Dataframe : \n",
            "          Group Gender  Age  EDUC  SES  MMSE  eTIV   nWBV    ASF\n",
            "0  Nondemented      M   87    14  2.0  27.0  1987  0.696  0.883\n",
            "1  Nondemented      M   88    14  2.0  30.0  2004  0.681  0.876\n",
            "5  Nondemented      F   88    18  3.0  28.0  1215  0.710  1.444\n",
            "6  Nondemented      F   90    18  3.0  27.0  1200  0.718  1.462\n",
            "7  Nondemented      M   80    12  4.0  28.0  1689  0.712  1.039\n"
          ]
        }
      ]
    },
    {
      "cell_type": "code",
      "metadata": {
        "id": "vFEK12WxsZNQ"
      },
      "source": [
        "# dropping all null values from a column \n",
        "null_rem_col = df.dropna(subset = ['MMSE'])"
      ],
      "execution_count": 23,
      "outputs": []
    },
    {
      "cell_type": "code",
      "metadata": {
        "id": "FD_eT2qxslC8",
        "colab": {
          "base_uri": "https://localhost:8080/"
        },
        "outputId": "a0e84d19-1483-466f-d950-493c5f195dd5"
      },
      "source": [
        "null_rem_col['MMSE'].isnull().sum()"
      ],
      "execution_count": 24,
      "outputs": [
        {
          "output_type": "execute_result",
          "data": {
            "text/plain": [
              "0"
            ]
          },
          "metadata": {},
          "execution_count": 24
        }
      ]
    },
    {
      "cell_type": "code",
      "metadata": {
        "id": "SfRTwuPHu5Oy",
        "colab": {
          "base_uri": "https://localhost:8080/"
        },
        "outputId": "768f92d0-0e42-4f28-8c7c-d0b2e66bfe1a"
      },
      "source": [
        "null_rem_col.shape"
      ],
      "execution_count": 25,
      "outputs": [
        {
          "output_type": "execute_result",
          "data": {
            "text/plain": [
              "(371, 9)"
            ]
          },
          "metadata": {},
          "execution_count": 25
        }
      ]
    },
    {
      "cell_type": "code",
      "metadata": {
        "id": "psEyZ2E3p5ee",
        "colab": {
          "base_uri": "https://localhost:8080/"
        },
        "outputId": "3897a3ea-6761-4c78-905a-1f6377a84e6e"
      },
      "source": [
        "# replacing null values\n",
        "# replace them by either mean or median \n",
        "# we will replace them with median\n",
        "\n",
        "# columns which have null values\n",
        "col_null = ['MMSE' , 'SES'] \n",
        "med = []\n",
        "\n",
        "# loop for obtaining the median \n",
        "for i in col_null: \n",
        "  med.append(df[i].median())  \n",
        "\n",
        "print(\"Median Values : \" , med[0] , med[1])\n",
        "\n",
        "k = 0 \n",
        "\n",
        "# loop for replacing null values \n",
        "for i in col_null:\n",
        "  df[i].fillna(med[k] , inplace = True)    # fillna fills the null values \n",
        "  k = k + 1 \n",
        "\n",
        "\n",
        "\n",
        "\n",
        "\n",
        " \n"
      ],
      "execution_count": 26,
      "outputs": [
        {
          "output_type": "stream",
          "name": "stdout",
          "text": [
            "Median Values :  29.0 2.0\n"
          ]
        }
      ]
    },
    {
      "cell_type": "code",
      "metadata": {
        "id": "C3TmtphHw-A5",
        "colab": {
          "base_uri": "https://localhost:8080/"
        },
        "outputId": "da43fabb-fe18-4611-8a51-8f8e53da1f1f"
      },
      "source": [
        "# checking for null values again \n",
        "\n",
        "df.isnull().sum()"
      ],
      "execution_count": 27,
      "outputs": [
        {
          "output_type": "execute_result",
          "data": {
            "text/plain": [
              "Group     0\n",
              "Gender    0\n",
              "Age       0\n",
              "EDUC      0\n",
              "SES       0\n",
              "MMSE      0\n",
              "eTIV      0\n",
              "nWBV      0\n",
              "ASF       0\n",
              "dtype: int64"
            ]
          },
          "metadata": {},
          "execution_count": 27
        }
      ]
    },
    {
      "cell_type": "code",
      "metadata": {
        "id": "cNqpB2EOMwW4"
      },
      "source": [
        "dv = df.copy()\n"
      ],
      "execution_count": 28,
      "outputs": []
    },
    {
      "cell_type": "code",
      "metadata": {
        "colab": {
          "base_uri": "https://localhost:8080/",
          "height": 423
        },
        "id": "sWBLyuHvRw6d",
        "outputId": "2742b819-56dc-46cf-982b-877c685a18d0"
      },
      "source": [
        "dv"
      ],
      "execution_count": 29,
      "outputs": [
        {
          "output_type": "execute_result",
          "data": {
            "text/html": [
              "<div>\n",
              "<style scoped>\n",
              "    .dataframe tbody tr th:only-of-type {\n",
              "        vertical-align: middle;\n",
              "    }\n",
              "\n",
              "    .dataframe tbody tr th {\n",
              "        vertical-align: top;\n",
              "    }\n",
              "\n",
              "    .dataframe thead th {\n",
              "        text-align: right;\n",
              "    }\n",
              "</style>\n",
              "<table border=\"1\" class=\"dataframe\">\n",
              "  <thead>\n",
              "    <tr style=\"text-align: right;\">\n",
              "      <th></th>\n",
              "      <th>Group</th>\n",
              "      <th>Gender</th>\n",
              "      <th>Age</th>\n",
              "      <th>EDUC</th>\n",
              "      <th>SES</th>\n",
              "      <th>MMSE</th>\n",
              "      <th>eTIV</th>\n",
              "      <th>nWBV</th>\n",
              "      <th>ASF</th>\n",
              "    </tr>\n",
              "  </thead>\n",
              "  <tbody>\n",
              "    <tr>\n",
              "      <th>0</th>\n",
              "      <td>Nondemented</td>\n",
              "      <td>M</td>\n",
              "      <td>87</td>\n",
              "      <td>14</td>\n",
              "      <td>2.0</td>\n",
              "      <td>27.0</td>\n",
              "      <td>1987</td>\n",
              "      <td>0.696</td>\n",
              "      <td>0.883</td>\n",
              "    </tr>\n",
              "    <tr>\n",
              "      <th>1</th>\n",
              "      <td>Nondemented</td>\n",
              "      <td>M</td>\n",
              "      <td>88</td>\n",
              "      <td>14</td>\n",
              "      <td>2.0</td>\n",
              "      <td>30.0</td>\n",
              "      <td>2004</td>\n",
              "      <td>0.681</td>\n",
              "      <td>0.876</td>\n",
              "    </tr>\n",
              "    <tr>\n",
              "      <th>2</th>\n",
              "      <td>Demented</td>\n",
              "      <td>M</td>\n",
              "      <td>75</td>\n",
              "      <td>12</td>\n",
              "      <td>2.0</td>\n",
              "      <td>23.0</td>\n",
              "      <td>1678</td>\n",
              "      <td>0.736</td>\n",
              "      <td>1.046</td>\n",
              "    </tr>\n",
              "    <tr>\n",
              "      <th>3</th>\n",
              "      <td>Demented</td>\n",
              "      <td>M</td>\n",
              "      <td>76</td>\n",
              "      <td>12</td>\n",
              "      <td>2.0</td>\n",
              "      <td>28.0</td>\n",
              "      <td>1738</td>\n",
              "      <td>0.713</td>\n",
              "      <td>1.010</td>\n",
              "    </tr>\n",
              "    <tr>\n",
              "      <th>4</th>\n",
              "      <td>Demented</td>\n",
              "      <td>M</td>\n",
              "      <td>80</td>\n",
              "      <td>12</td>\n",
              "      <td>2.0</td>\n",
              "      <td>22.0</td>\n",
              "      <td>1698</td>\n",
              "      <td>0.701</td>\n",
              "      <td>1.034</td>\n",
              "    </tr>\n",
              "    <tr>\n",
              "      <th>...</th>\n",
              "      <td>...</td>\n",
              "      <td>...</td>\n",
              "      <td>...</td>\n",
              "      <td>...</td>\n",
              "      <td>...</td>\n",
              "      <td>...</td>\n",
              "      <td>...</td>\n",
              "      <td>...</td>\n",
              "      <td>...</td>\n",
              "    </tr>\n",
              "    <tr>\n",
              "      <th>368</th>\n",
              "      <td>Demented</td>\n",
              "      <td>M</td>\n",
              "      <td>82</td>\n",
              "      <td>16</td>\n",
              "      <td>1.0</td>\n",
              "      <td>28.0</td>\n",
              "      <td>1693</td>\n",
              "      <td>0.694</td>\n",
              "      <td>1.037</td>\n",
              "    </tr>\n",
              "    <tr>\n",
              "      <th>369</th>\n",
              "      <td>Demented</td>\n",
              "      <td>M</td>\n",
              "      <td>86</td>\n",
              "      <td>16</td>\n",
              "      <td>1.0</td>\n",
              "      <td>26.0</td>\n",
              "      <td>1688</td>\n",
              "      <td>0.675</td>\n",
              "      <td>1.040</td>\n",
              "    </tr>\n",
              "    <tr>\n",
              "      <th>370</th>\n",
              "      <td>Nondemented</td>\n",
              "      <td>F</td>\n",
              "      <td>61</td>\n",
              "      <td>13</td>\n",
              "      <td>2.0</td>\n",
              "      <td>30.0</td>\n",
              "      <td>1319</td>\n",
              "      <td>0.801</td>\n",
              "      <td>1.331</td>\n",
              "    </tr>\n",
              "    <tr>\n",
              "      <th>371</th>\n",
              "      <td>Nondemented</td>\n",
              "      <td>F</td>\n",
              "      <td>63</td>\n",
              "      <td>13</td>\n",
              "      <td>2.0</td>\n",
              "      <td>30.0</td>\n",
              "      <td>1327</td>\n",
              "      <td>0.796</td>\n",
              "      <td>1.323</td>\n",
              "    </tr>\n",
              "    <tr>\n",
              "      <th>372</th>\n",
              "      <td>Nondemented</td>\n",
              "      <td>F</td>\n",
              "      <td>65</td>\n",
              "      <td>13</td>\n",
              "      <td>2.0</td>\n",
              "      <td>30.0</td>\n",
              "      <td>1333</td>\n",
              "      <td>0.801</td>\n",
              "      <td>1.317</td>\n",
              "    </tr>\n",
              "  </tbody>\n",
              "</table>\n",
              "<p>373 rows × 9 columns</p>\n",
              "</div>"
            ],
            "text/plain": [
              "           Group Gender  Age  EDUC  SES  MMSE  eTIV   nWBV    ASF\n",
              "0    Nondemented      M   87    14  2.0  27.0  1987  0.696  0.883\n",
              "1    Nondemented      M   88    14  2.0  30.0  2004  0.681  0.876\n",
              "2       Demented      M   75    12  2.0  23.0  1678  0.736  1.046\n",
              "3       Demented      M   76    12  2.0  28.0  1738  0.713  1.010\n",
              "4       Demented      M   80    12  2.0  22.0  1698  0.701  1.034\n",
              "..           ...    ...  ...   ...  ...   ...   ...    ...    ...\n",
              "368     Demented      M   82    16  1.0  28.0  1693  0.694  1.037\n",
              "369     Demented      M   86    16  1.0  26.0  1688  0.675  1.040\n",
              "370  Nondemented      F   61    13  2.0  30.0  1319  0.801  1.331\n",
              "371  Nondemented      F   63    13  2.0  30.0  1327  0.796  1.323\n",
              "372  Nondemented      F   65    13  2.0  30.0  1333  0.801  1.317\n",
              "\n",
              "[373 rows x 9 columns]"
            ]
          },
          "metadata": {},
          "execution_count": 29
        }
      ]
    },
    {
      "cell_type": "markdown",
      "metadata": {
        "id": "rP34p6stq6dK"
      },
      "source": [
        "# Task"
      ]
    },
    {
      "cell_type": "markdown",
      "metadata": {
        "id": "io2c1cerZ5nt"
      },
      "source": [
        "The tasks are as follows : \n",
        "1. Copy df into another dataframe using copy(). Make 2 such copies : df_copy , vis_copy\n",
        "2. Implement Sklearn label encoding on df\n",
        "3. Implement dummy encoding on the df_copy\n",
        "4. Plot a simple barplot depicting the count / number of males and females using vis_copy"
      ]
    },
    {
      "cell_type": "code",
      "metadata": {
        "id": "E8h28S4NazLb"
      },
      "source": [
        "df_copy = df.copy()\n",
        "vis_copy = df.copy()"
      ],
      "execution_count": 30,
      "outputs": []
    },
    {
      "cell_type": "code",
      "metadata": {
        "id": "JgbrYkZza1ai"
      },
      "source": [
        "from sklearn.preprocessing import LabelEncoder\n",
        "\n",
        "le = LabelEncoder()\n",
        "df[\"Group\"] = le.fit_transform(df[\"Group\"])\n",
        "df[\"Gender\"] = le.fit_transform(df[\"Gender\"])"
      ],
      "execution_count": 31,
      "outputs": []
    },
    {
      "cell_type": "code",
      "metadata": {
        "id": "AhNICMTCivJL",
        "colab": {
          "base_uri": "https://localhost:8080/",
          "height": 423
        },
        "outputId": "f2f4b746-7606-4105-a23a-28544be84c4e"
      },
      "source": [
        "\n",
        "df"
      ],
      "execution_count": 32,
      "outputs": [
        {
          "output_type": "execute_result",
          "data": {
            "text/html": [
              "<div>\n",
              "<style scoped>\n",
              "    .dataframe tbody tr th:only-of-type {\n",
              "        vertical-align: middle;\n",
              "    }\n",
              "\n",
              "    .dataframe tbody tr th {\n",
              "        vertical-align: top;\n",
              "    }\n",
              "\n",
              "    .dataframe thead th {\n",
              "        text-align: right;\n",
              "    }\n",
              "</style>\n",
              "<table border=\"1\" class=\"dataframe\">\n",
              "  <thead>\n",
              "    <tr style=\"text-align: right;\">\n",
              "      <th></th>\n",
              "      <th>Group</th>\n",
              "      <th>Gender</th>\n",
              "      <th>Age</th>\n",
              "      <th>EDUC</th>\n",
              "      <th>SES</th>\n",
              "      <th>MMSE</th>\n",
              "      <th>eTIV</th>\n",
              "      <th>nWBV</th>\n",
              "      <th>ASF</th>\n",
              "    </tr>\n",
              "  </thead>\n",
              "  <tbody>\n",
              "    <tr>\n",
              "      <th>0</th>\n",
              "      <td>1</td>\n",
              "      <td>1</td>\n",
              "      <td>87</td>\n",
              "      <td>14</td>\n",
              "      <td>2.0</td>\n",
              "      <td>27.0</td>\n",
              "      <td>1987</td>\n",
              "      <td>0.696</td>\n",
              "      <td>0.883</td>\n",
              "    </tr>\n",
              "    <tr>\n",
              "      <th>1</th>\n",
              "      <td>1</td>\n",
              "      <td>1</td>\n",
              "      <td>88</td>\n",
              "      <td>14</td>\n",
              "      <td>2.0</td>\n",
              "      <td>30.0</td>\n",
              "      <td>2004</td>\n",
              "      <td>0.681</td>\n",
              "      <td>0.876</td>\n",
              "    </tr>\n",
              "    <tr>\n",
              "      <th>2</th>\n",
              "      <td>0</td>\n",
              "      <td>1</td>\n",
              "      <td>75</td>\n",
              "      <td>12</td>\n",
              "      <td>2.0</td>\n",
              "      <td>23.0</td>\n",
              "      <td>1678</td>\n",
              "      <td>0.736</td>\n",
              "      <td>1.046</td>\n",
              "    </tr>\n",
              "    <tr>\n",
              "      <th>3</th>\n",
              "      <td>0</td>\n",
              "      <td>1</td>\n",
              "      <td>76</td>\n",
              "      <td>12</td>\n",
              "      <td>2.0</td>\n",
              "      <td>28.0</td>\n",
              "      <td>1738</td>\n",
              "      <td>0.713</td>\n",
              "      <td>1.010</td>\n",
              "    </tr>\n",
              "    <tr>\n",
              "      <th>4</th>\n",
              "      <td>0</td>\n",
              "      <td>1</td>\n",
              "      <td>80</td>\n",
              "      <td>12</td>\n",
              "      <td>2.0</td>\n",
              "      <td>22.0</td>\n",
              "      <td>1698</td>\n",
              "      <td>0.701</td>\n",
              "      <td>1.034</td>\n",
              "    </tr>\n",
              "    <tr>\n",
              "      <th>...</th>\n",
              "      <td>...</td>\n",
              "      <td>...</td>\n",
              "      <td>...</td>\n",
              "      <td>...</td>\n",
              "      <td>...</td>\n",
              "      <td>...</td>\n",
              "      <td>...</td>\n",
              "      <td>...</td>\n",
              "      <td>...</td>\n",
              "    </tr>\n",
              "    <tr>\n",
              "      <th>368</th>\n",
              "      <td>0</td>\n",
              "      <td>1</td>\n",
              "      <td>82</td>\n",
              "      <td>16</td>\n",
              "      <td>1.0</td>\n",
              "      <td>28.0</td>\n",
              "      <td>1693</td>\n",
              "      <td>0.694</td>\n",
              "      <td>1.037</td>\n",
              "    </tr>\n",
              "    <tr>\n",
              "      <th>369</th>\n",
              "      <td>0</td>\n",
              "      <td>1</td>\n",
              "      <td>86</td>\n",
              "      <td>16</td>\n",
              "      <td>1.0</td>\n",
              "      <td>26.0</td>\n",
              "      <td>1688</td>\n",
              "      <td>0.675</td>\n",
              "      <td>1.040</td>\n",
              "    </tr>\n",
              "    <tr>\n",
              "      <th>370</th>\n",
              "      <td>1</td>\n",
              "      <td>0</td>\n",
              "      <td>61</td>\n",
              "      <td>13</td>\n",
              "      <td>2.0</td>\n",
              "      <td>30.0</td>\n",
              "      <td>1319</td>\n",
              "      <td>0.801</td>\n",
              "      <td>1.331</td>\n",
              "    </tr>\n",
              "    <tr>\n",
              "      <th>371</th>\n",
              "      <td>1</td>\n",
              "      <td>0</td>\n",
              "      <td>63</td>\n",
              "      <td>13</td>\n",
              "      <td>2.0</td>\n",
              "      <td>30.0</td>\n",
              "      <td>1327</td>\n",
              "      <td>0.796</td>\n",
              "      <td>1.323</td>\n",
              "    </tr>\n",
              "    <tr>\n",
              "      <th>372</th>\n",
              "      <td>1</td>\n",
              "      <td>0</td>\n",
              "      <td>65</td>\n",
              "      <td>13</td>\n",
              "      <td>2.0</td>\n",
              "      <td>30.0</td>\n",
              "      <td>1333</td>\n",
              "      <td>0.801</td>\n",
              "      <td>1.317</td>\n",
              "    </tr>\n",
              "  </tbody>\n",
              "</table>\n",
              "<p>373 rows × 9 columns</p>\n",
              "</div>"
            ],
            "text/plain": [
              "     Group  Gender  Age  EDUC  SES  MMSE  eTIV   nWBV    ASF\n",
              "0        1       1   87    14  2.0  27.0  1987  0.696  0.883\n",
              "1        1       1   88    14  2.0  30.0  2004  0.681  0.876\n",
              "2        0       1   75    12  2.0  23.0  1678  0.736  1.046\n",
              "3        0       1   76    12  2.0  28.0  1738  0.713  1.010\n",
              "4        0       1   80    12  2.0  22.0  1698  0.701  1.034\n",
              "..     ...     ...  ...   ...  ...   ...   ...    ...    ...\n",
              "368      0       1   82    16  1.0  28.0  1693  0.694  1.037\n",
              "369      0       1   86    16  1.0  26.0  1688  0.675  1.040\n",
              "370      1       0   61    13  2.0  30.0  1319  0.801  1.331\n",
              "371      1       0   63    13  2.0  30.0  1327  0.796  1.323\n",
              "372      1       0   65    13  2.0  30.0  1333  0.801  1.317\n",
              "\n",
              "[373 rows x 9 columns]"
            ]
          },
          "metadata": {},
          "execution_count": 32
        }
      ]
    },
    {
      "cell_type": "code",
      "metadata": {
        "id": "J3ZcI27Ji0nZ"
      },
      "source": [
        "df_copy[\"Gender\"] = pd.get_dummies(df_copy[\"Gender\"])\n",
        "df_copy[\"Group\"] = pd.get_dummies(df_copy[\"Group\"])"
      ],
      "execution_count": 33,
      "outputs": []
    },
    {
      "cell_type": "code",
      "metadata": {
        "id": "Hn27gBbkjDIj"
      },
      "source": [
        "import matplotlib.pyplot as plt\n",
        "\n",
        "\n",
        "Y = vis_copy[\"Gender\"].value_counts(dropna=True)\n",
        "X = vis_copy[\"Gender\"].unique()\n",
        "X.sort(kind = \"quicksort\")"
      ],
      "execution_count": 34,
      "outputs": []
    },
    {
      "cell_type": "code",
      "metadata": {
        "id": "Pg0CP-g7jOhu",
        "colab": {
          "base_uri": "https://localhost:8080/",
          "height": 295
        },
        "outputId": "98ccf3fe-fc49-45ae-ea25-72a3dc3600d0"
      },
      "source": [
        "plt.bar(X , Y , color = ['r' , 'b'])\n",
        "plt.xlabel(\"Gender\")\n",
        "plt.ylabel(\"Number of People\")\n",
        "plt.title(\"Gender distribution\")\n",
        "plt.show()"
      ],
      "execution_count": 35,
      "outputs": [
        {
          "output_type": "display_data",
          "data": {
            "image/png": "[encoded data removed]",
            "text/plain": [
              "<Figure size 432x288 with 1 Axes>"
            ]
          },
          "metadata": {
            "needs_background": "light"
          }
        }
      ]
    },
    {
      "cell_type": "code",
      "metadata": {
        "id": "VhyFvVVqlDsS"
      },
      "source": [
        ""
      ],
      "execution_count": null,
      "outputs": []
    },
    {
      "cell_type": "code",
      "metadata": {
        "id": "5RHOGlx0lEYN"
      },
      "source": [
        ""
      ],
      "execution_count": null,
      "outputs": []
    },
    {
      "cell_type": "code",
      "metadata": {
        "id": "59wkiIcNlb39"
      },
      "source": [
        ""
      ],
      "execution_count": null,
      "outputs": []
    },
    {
      "cell_type": "code",
      "metadata": {
        "id": "gr2CerOembub"
      },
      "source": [
        ""
      ],
      "execution_count": null,
      "outputs": []
    },
    {
      "cell_type": "code",
      "metadata": {
        "colab": {
          "base_uri": "https://localhost:8080/",
          "height": 295
        },
        "id": "SI1s-mEZmc3M",
        "outputId": "7cc6b48a-dda5-4546-e39b-5f331d120b09"
      },
      "source": [
        "# this is how the plot should look like "
      ],
      "execution_count": null,
      "outputs": [
        {
          "output_type": "display_data",
          "data": {
            "image/png": "[encoded data removed]",
            "text/plain": [
              "<Figure size 432x288 with 1 Axes>"
            ]
          },
          "metadata": {
            "needs_background": "light"
          }
        }
      ]
    },
    {
      "cell_type": "code",
      "metadata": {
        "id": "0qpVkw8TnHyM"
      },
      "source": [
        ""
      ],
      "execution_count": null,
      "outputs": []
    }
  ]
}